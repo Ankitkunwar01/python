{
 "cells": [
  {
   "cell_type": "markdown",
   "id": "04b786fa",
   "metadata": {},
   "source": [
    "What's a CSV file?\n",
    "CSV, or comma-separated values, is a common data storage file type. It's designed to store tabular data, just like a pandas DataFrame. It's a text file, where each row of data has its own line, and each value is separated by a comma. Almost every database, programming language, and piece of data analysis software can read and write CSV files. That makes it a good storage format if you need to share your data with other people who may be using different tools than you."
   ]
  }
 ],
 "metadata": {
  "language_info": {
   "name": "python"
  }
 },
 "nbformat": 4,
 "nbformat_minor": 5
}
