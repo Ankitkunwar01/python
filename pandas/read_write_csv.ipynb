{
 "cells": [
  {
   "cell_type": "markdown",
   "id": "04b786fa",
   "metadata": {},
   "source": [
    "What's a CSV file?\n",
    "CSV, or comma-separated values, is a common data storage file type. It's designed to store tabular data, just like a pandas DataFrame. It's a text file, where each row of data has its own line, and each value is separated by a comma. Almost every database, programming language, and piece of data analysis software can read and write CSV files. That makes it a good storage format if you need to share your data with other people who may be using different tools than you."
   ]
  },
  {
   "cell_type": "code",
   "execution_count": 3,
   "id": "232f2cc6",
   "metadata": {},
   "outputs": [
    {
     "name": "stdout",
     "output_type": "stream",
     "text": [
      "      Name     Breed  Weight_kg\n",
      "0      Max  Labrador         30\n",
      "1    Bella    Poodle         18\n",
      "2  Charlie    Beagle         10\n"
     ]
    }
   ],
   "source": [
    "import pandas as pd\n",
    "\n",
    "data = {\n",
    "    \"Name\": [\"Max\", \"Bella\", \"Charlie\"],\n",
    "    \"Breed\": [\"Labrador\", \"Poodle\", \"Beagle\"],\n",
    "    \"Weight_kg\": [30, 18, 10]\n",
    "}\n",
    "\n",
    "df = pd.DataFrame(data)\n",
    "df.to_csv(\"data.csv\")\n",
    "print(df)\n"
   ]
  }
 ],
 "metadata": {
  "kernelspec": {
   "display_name": ".venv",
   "language": "python",
   "name": "python3"
  },
  "language_info": {
   "codemirror_mode": {
    "name": "ipython",
    "version": 3
   },
   "file_extension": ".py",
   "mimetype": "text/x-python",
   "name": "python",
   "nbconvert_exporter": "python",
   "pygments_lexer": "ipython3",
   "version": "3.12.3"
  }
 },
 "nbformat": 4,
 "nbformat_minor": 5
}
