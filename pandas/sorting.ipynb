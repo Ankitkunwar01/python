{
 "cells": [
  {
   "cell_type": "code",
   "execution_count": 11,
   "id": "83365f7d",
   "metadata": {},
   "outputs": [
    {
     "name": "stdout",
     "output_type": "stream",
     "text": [
      "      Name  Math  Science  English Grade\n",
      "4      Eva    76       95       80     B\n",
      "1      Bob    78       74       85     B\n",
      "0    Alice    85       91       79     A\n",
      "3    David    88       84       90     A\n",
      "2  Charlie    92       89       87     A\n"
     ]
    }
   ],
   "source": [
    "import pandas as pd\n",
    "\n",
    "data = {\n",
    "    \"Name\": [\"Alice\", \"Bob\", \"Charlie\", \"David\", \"Eva\"],\n",
    "    \"Math\": [85, 78, 92, 88, 76],\n",
    "    \"Science\": [91, 74, 89, 84, 95],\n",
    "    \"English\": [79, 85, 87, 90, 80],\n",
    "    \"Grade\": [\"A\", \"B\", \"A\", \"A\", \"B\"]\n",
    "}\n",
    "\n",
    "df = pd.DataFrame(data)\n",
    "\n",
    "# Sort by Math scores in ascending order\n",
    "sorted_df = df.sort_values(\"Math\")\n",
    "print(sorted_df)\n"
   ]
  }
 ],
 "metadata": {
  "kernelspec": {
   "display_name": ".venv",
   "language": "python",
   "name": "python3"
  },
  "language_info": {
   "codemirror_mode": {
    "name": "ipython",
    "version": 3
   },
   "file_extension": ".py",
   "mimetype": "text/x-python",
   "name": "python",
   "nbconvert_exporter": "python",
   "pygments_lexer": "ipython3",
   "version": "3.12.3"
  }
 },
 "nbformat": 4,
 "nbformat_minor": 5
}
