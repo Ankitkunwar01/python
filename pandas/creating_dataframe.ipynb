{
 "cells": [
  {
   "cell_type": "markdown",
   "id": "065922bd",
   "metadata": {},
   "source": [
    "Dictionaries\n",
    "Before creating your own DataFrames, let's talk about dictionaries. A dictionary is a way of storing data in Python. It holds a set of key-value pairs. You can create a dictionary like this, using curly braces. Inside, each key-value pair is written as \"key colon value.\" Let's create a dictionary that holds information about a book. \"Title\" is a key in the dictionary, and \"Charlotte's Web\" is its corresponding value, and so on. You can access values of a dictionary via their keys in square brackets. For example, we can access the value of \"title\" like this.\n",
    "\n"
   ]
  },
  {
   "cell_type": "code",
   "execution_count": 1,
   "id": "9fcb1175",
   "metadata": {},
   "outputs": [
    {
     "name": "stdout",
     "output_type": "stream",
     "text": [
      "Charlotte's Web\n",
      "E. B. White\n"
     ]
    }
   ],
   "source": [
    "import pandas as pd\n",
    "book = {\n",
    "    \"title\": \"Charlotte's Web\",\n",
    "    \"author\": \"E. B. White\",\n",
    "    \"published_year\": 1952\n",
    "}\n",
    "print(book[\"title\"])          # Output: Charlotte's Web\n",
    "print(book[\"author\"])         # Output: E. B. White\n"
   ]
  }
 ],
 "metadata": {
  "kernelspec": {
   "display_name": ".venv",
   "language": "python",
   "name": "python3"
  },
  "language_info": {
   "codemirror_mode": {
    "name": "ipython",
    "version": 3
   },
   "file_extension": ".py",
   "mimetype": "text/x-python",
   "name": "python",
   "nbconvert_exporter": "python",
   "pygments_lexer": "ipython3",
   "version": "3.12.3"
  }
 },
 "nbformat": 4,
 "nbformat_minor": 5
}
