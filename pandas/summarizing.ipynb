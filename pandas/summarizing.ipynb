{
 "cells": [
  {
   "cell_type": "markdown",
   "id": "84f75436",
   "metadata": {},
   "source": [
    "Summarizing numerical data "
   ]
  },
  {
   "cell_type": "code",
   "execution_count": 1,
   "id": "ee9064cb",
   "metadata": {},
   "outputs": [
    {
     "name": "stdout",
     "output_type": "stream",
     "text": [
      "83.8\n"
     ]
    }
   ],
   "source": [
    "import pandas as pd\n",
    "\n",
    "data = {\n",
    "    \"Name\": [\"Alice\", \"Bob\", \"Charlie\", \"David\", \"Eva\"],\n",
    "    \"Math\": [85, 78, 92, 88, 76],\n",
    "    \"Science\": [91, 74, 89, 84, 95],\n",
    "    \"English\": [79, 85, 87, 90, 80],\n",
    "    \"Grade\": [\"A\", \"B\", \"A\", \"A\", \"B\"]\n",
    "}\n",
    "\n",
    "df = pd.DataFrame(data)\n",
    "\n",
    "# Sort by Math scores in ascending order\n",
    "print(df[\"Math\"].mean())"
   ]
  }
 ],
 "metadata": {
  "kernelspec": {
   "display_name": ".venv",
   "language": "python",
   "name": "python3"
  },
  "language_info": {
   "codemirror_mode": {
    "name": "ipython",
    "version": 3
   },
   "file_extension": ".py",
   "mimetype": "text/x-python",
   "name": "python",
   "nbconvert_exporter": "python",
   "pygments_lexer": "ipython3",
   "version": "3.12.3"
  }
 },
 "nbformat": 4,
 "nbformat_minor": 5
}
