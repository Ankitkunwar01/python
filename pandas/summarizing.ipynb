{
 "cells": [
  {
   "cell_type": "markdown",
   "id": "84f75436",
   "metadata": {},
   "source": [
    "Summarizing numerical data by .mean(), .median(), .mode(), .min(), .max()"
   ]
  },
  {
   "cell_type": "code",
   "execution_count": 1,
   "id": "ee9064cb",
   "metadata": {},
   "outputs": [
    {
     "name": "stdout",
     "output_type": "stream",
     "text": [
      "83.8\n",
      "76\n"
     ]
    }
   ],
   "source": [
    "import pandas as pd\n",
    "\n",
    "data = {\n",
    "    \"Name\": [\"Alice\", \"Bob\", \"Charlie\", \"David\", \"Eva\"],\n",
    "    \"Math\": [85, 78, 92, 88, 76],\n",
    "    \"Science\": [91, 74, 89, 84, 95],\n",
    "    \"English\": [79, 85, 87, 90, 80],\n",
    "    \"Grade\": [\"A\", \"B\", \"A\", \"A\", \"B\"]\n",
    "}\n",
    "\n",
    "df = pd.DataFrame(data)\n",
    "\n",
    "# Sort by Math scores in ascending order\n",
    "print(df[\"Math\"].mean())\n",
    "print(df[\"Math\"].min())"
   ]
  },
  {
   "cell_type": "markdown",
   "id": "916d2c66",
   "metadata": {},
   "source": [
    "Summaries on multiple columns\n",
    "agg can also be used on more than one column. By selecting the weight and height columns before calling agg, we get the thirtieth percentile for both columns."
   ]
  },
  {
   "cell_type": "code",
   "execution_count": 3,
   "id": "cc4bfc94",
   "metadata": {},
   "outputs": [
    {
     "data": {
      "text/plain": [
       "np.float64(79.4)"
      ]
     },
     "execution_count": 3,
     "metadata": {},
     "output_type": "execute_result"
    }
   ],
   "source": [
    "\n",
    "import pandas as pd\n",
    "\n",
    "data = {\n",
    "    \"Name\": [\"Alice\", \"Bob\", \"Charlie\", \"David\", \"Eva\"],\n",
    "    \"Math\": [85, 78, 92, 88, 76],\n",
    "    \"Science\": [91, 74, 89, 84, 95],\n",
    "    \"English\": [79, 85, 87, 90, 80],\n",
    "    \"Grade\": [\"A\", \"B\", \"A\", \"A\", \"B\"]\n",
    "}\n",
    "\n",
    "df = pd.DataFrame(data)\n",
    "\n",
    "def pct30(column):\n",
    "    return column.quantile(0.3)\n",
    "\n",
    "df[\"Math\"].agg(pct30)"
   ]
  }
 ],
 "metadata": {
  "kernelspec": {
   "display_name": ".venv",
   "language": "python",
   "name": "python3"
  },
  "language_info": {
   "codemirror_mode": {
    "name": "ipython",
    "version": 3
   },
   "file_extension": ".py",
   "mimetype": "text/x-python",
   "name": "python",
   "nbconvert_exporter": "python",
   "pygments_lexer": "ipython3",
   "version": "3.12.3"
  }
 },
 "nbformat": 4,
 "nbformat_minor": 5
}
