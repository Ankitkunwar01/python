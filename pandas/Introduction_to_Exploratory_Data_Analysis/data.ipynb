{
 "cells": [
  {
   "cell_type": "code",
   "execution_count": 38,
   "id": "1cf79ef5",
   "metadata": {},
   "outputs": [
    {
     "name": "stdout",
     "output_type": "stream",
     "text": [
      "['State', 'Candidate', 'Party', 'Popular_Votes', 'Percentage']\n",
      "          State       Party\n",
      "0       Florida    Democrat\n",
      "1       Florida  Republican\n",
      "2          Ohio    Democrat\n",
      "3          Ohio  Republican\n",
      "4  Pennsylvania    Democrat\n",
      "5  Pennsylvania  Republican\n",
      "6      Virginia    Democrat\n",
      "7      Virginia  Republican\n",
      "8      Colorado    Democrat\n",
      "9      Colorado  Republican\n"
     ]
    }
   ],
   "source": [
    "import pandas as pd\n",
    "\n",
    "df = pd.read_csv('result.csv')\n",
    "print(df.columns.tolist())\n",
    "\n",
    "print(df[['State','Party']].head(10))\n",
    "\n"
   ]
  }
 ],
 "metadata": {
  "kernelspec": {
   "display_name": ".venv",
   "language": "python",
   "name": "python3"
  },
  "language_info": {
   "codemirror_mode": {
    "name": "ipython",
    "version": 3
   },
   "file_extension": ".py",
   "mimetype": "text/x-python",
   "name": "python",
   "nbconvert_exporter": "python",
   "pygments_lexer": "ipython3",
   "version": "3.12.3"
  }
 },
 "nbformat": 4,
 "nbformat_minor": 5
}
