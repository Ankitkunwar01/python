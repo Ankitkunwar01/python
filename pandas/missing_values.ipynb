{
 "cells": [
  {
   "cell_type": "code",
   "execution_count": null,
   "id": "f59de6e9",
   "metadata": {},
   "outputs": [
    {
     "name": "stdout",
     "output_type": "stream",
     "text": [
      "      Name  Weight_kg\n",
      "2  Charlie        NaN\n",
      "4    Rocky        NaN\n"
     ]
    }
   ],
   "source": [
    "\n",
    "import pandas as pd\n",
    "\n",
    "# Example dataset with missing values\n",
    "data = {\n",
    "    \"Name\": [\"Max\", \"Bella\", \"Charlie\", \"Luna\", \"Rocky\"],\n",
    "    \"Weight_kg\": [25.0, 18.5, None, 22.0, None]  # Scale failed for Charlie and Rocky\n",
    "}\n",
    "\n",
    "df = pd.DataFrame(data)\n",
    "\n",
    "# Show rows with missing values\n",
    "# print(df[df['Weight_kg'].isna()])\n",
    "print(df[df['Weight_kg'].isna().any()])\n"
   ]
  }
 ],
 "metadata": {
  "kernelspec": {
   "display_name": ".venv",
   "language": "python",
   "name": "python3"
  },
  "language_info": {
   "codemirror_mode": {
    "name": "ipython",
    "version": 3
   },
   "file_extension": ".py",
   "mimetype": "text/x-python",
   "name": "python",
   "nbconvert_exporter": "python",
   "pygments_lexer": "ipython3",
   "version": "3.12.3"
  }
 },
 "nbformat": 4,
 "nbformat_minor": 5
}
