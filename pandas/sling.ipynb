{
 "cells": [
  {
   "cell_type": "markdown",
   "id": "4b399ae6",
   "metadata": {},
   "source": [
    "Slicing lists\n",
    "Here are the dog breeds, this time as a list. To slice the list, you pass first and last positions separated by a colon into square brackets. Remember that Python positions start from zero, so 2 refers to the third element, Chow Chow. Also remember that the last position, 5, is not included in the slice, so we finish at Labrador, not Chihuahua. If you want the slice to start from the beginning of the list, you can omit the zero. Here, using colon-3 returns the first three elements. Slicing with colon on its own returns the whole list."
   ]
  },
  {
   "cell_type": "markdown",
   "id": "e7cb1303",
   "metadata": {},
   "source": [
    "dog_breeds[2:5]     # ['Chow Chow', 'Labrador', 'Chihuahua']\n",
    "dog_breeds[:3]      # ['Beagle', 'Poodle', 'Chow Chow']\n",
    "dog_breeds[:]       # ['Beagle', 'Poodle', 'Chow Chow', 'Labrador', 'Chihuahua']\n"
   ]
  },
  {
   "cell_type": "code",
   "execution_count": null,
   "id": "db2f6f58",
   "metadata": {},
   "outputs": [
    {
     "name": "stdout",
     "output_type": "stream",
     "text": [
      "dog_breeds[2:5] → ['Chow Chow', 'Labrador', 'Chihuahua']\n",
      "dog_breeds[:3] → ['Beagle', 'Poodle', 'Chow Chow']\n",
      "dog_breeds[:] → ['Beagle', 'Poodle', 'Chow Chow', 'Labrador', 'Chihuahua']\n"
     ]
    }
   ],
   "source": [
    "# Define the list of dog breeds\n",
    "dog_breeds = ['Beagle', 'Poodle', 'Chow Chow', 'Labrador', 'Chihuahua']\n",
    "\n",
    "# Slice from index 2 to 5 (5 not included)\n",
    "slice_1 = dog_breeds[2:5]\n",
    "print(\"dog_breeds[2:5] →\", slice_1)  # Output: ['Chow Chow', 'Labrador', 'Chihuahua']\n",
    "\n",
    "# Slice from the beginning to index 3 (3 not included)\n",
    "slice_2 = dog_breeds[:3]\n",
    "print(\"dog_breeds[:3] →\", slice_2)  # Output: ['Beagle', 'Poodle', 'Chow Chow']\n",
    "\n",
    "# Slice the entire list (copy of the list)\n",
    "slice_3 = dog_breeds[:]\n",
    "print(\"dog_breeds[:] →\", slice_3)  # Output: ['Beagle', 'Poodle', 'Chow Chow', 'Labrador', 'Chihuahua']\n",
    "\n",
    "dogs_srt = dog_breeds.set_index([\"breed\",\"color\"]).sort_index()"
   ]
  },
  {
   "cell_type": "code",
   "execution_count": null,
   "id": "931ebe34",
   "metadata": {},
   "outputs": [
    {
     "data": {
      "text/html": [
       "<div>\n",
       "<style scoped>\n",
       "    .dataframe tbody tr th:only-of-type {\n",
       "        vertical-align: middle;\n",
       "    }\n",
       "\n",
       "    .dataframe tbody tr th {\n",
       "        vertical-align: top;\n",
       "    }\n",
       "\n",
       "    .dataframe thead th {\n",
       "        text-align: right;\n",
       "    }\n",
       "</style>\n",
       "<table border=\"1\" class=\"dataframe\">\n",
       "  <thead>\n",
       "    <tr style=\"text-align: right;\">\n",
       "      <th></th>\n",
       "      <th></th>\n",
       "      <th>Weight (kg)</th>\n",
       "    </tr>\n",
       "    <tr>\n",
       "      <th>Breed</th>\n",
       "      <th>Color</th>\n",
       "      <th></th>\n",
       "    </tr>\n",
       "  </thead>\n",
       "  <tbody>\n",
       "    <tr>\n",
       "      <th>Beagle</th>\n",
       "      <th>Brown</th>\n",
       "      <td>10</td>\n",
       "    </tr>\n",
       "    <tr>\n",
       "      <th>Chihuahua</th>\n",
       "      <th>Cream</th>\n",
       "      <td>3</td>\n",
       "    </tr>\n",
       "    <tr>\n",
       "      <th>Chow Chow</th>\n",
       "      <th>Golden</th>\n",
       "      <td>25</td>\n",
       "    </tr>\n",
       "  </tbody>\n",
       "</table>\n",
       "</div>"
      ],
      "text/plain": [
       "                  Weight (kg)\n",
       "Breed     Color              \n",
       "Beagle    Brown            10\n",
       "Chihuahua Cream             3\n",
       "Chow Chow Golden           25"
      ]
     },
     "execution_count": 10,
     "metadata": {},
     "output_type": "execute_result"
    }
   ],
   "source": [
    "import pandas as pd\n",
    "\n",
    "# Define the dog data\n",
    "dog_data = {\n",
    "    \"Breed\": [\"Beagle\", \"Poodle\", \"Chow Chow\", \"Labrador\", \"Chihuahua\"],\n",
    "    \"Color\": [\"Brown\", \"White\", \"Golden\", \"Black\", \"Cream\"],\n",
    "    \"Weight (kg)\": [10, 15, 25, 30, 3]\n",
    "}\n",
    "\n",
    "# Create the DataFrame\n",
    "dogs_df = pd.DataFrame(dog_data)\n",
    "\n",
    "# dogs_srt = dogs_df.set_index([\"Breed\",\"Color\"]).sort_index()\n",
    "dogs_srt.loc[\"Beagle\":\"Chow Chow\"]\n",
    "# Display the DataFrame\n",
    "print(dogs_df)"
   ]
  }
 ],
 "metadata": {
  "kernelspec": {
   "display_name": ".venv",
   "language": "python",
   "name": "python3"
  },
  "language_info": {
   "codemirror_mode": {
    "name": "ipython",
    "version": 3
   },
   "file_extension": ".py",
   "mimetype": "text/x-python",
   "name": "python",
   "nbconvert_exporter": "python",
   "pygments_lexer": "ipython3",
   "version": "3.12.3"
  }
 },
 "nbformat": 4,
 "nbformat_minor": 5
}
