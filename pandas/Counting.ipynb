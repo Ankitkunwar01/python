{
 "cells": [
  {
   "cell_type": "code",
   "execution_count": null,
   "id": "63dfdd8a",
   "metadata": {},
   "outputs": [],
   "source": [
    "import pandas as pd\n",
    "\n",
    "# Sample data\n",
    "data = {\n",
    "    \"date\": [\"2025-06-01\", \"2025-06-02\", \"2025-06-03\"],\n",
    "    \"name\": [\"Buddy\", \"Luna\", \"Charlie\"],\n",
    "    \"breed\": [\"Golden Retriever\", \"Poodle\", \"Bulldog\"],\n",
    "    \"weight_kg\": [30.5, 22.0, 25.8]\n",
    "}\n",
    "\n",
    "# Create DataFrame\n",
    "df = pd.DataFrame(data)\n",
    "\n",
    "# Display the DataFrame\n",
    "print(df)\n"
   ]
  }
 ],
 "metadata": {
  "kernelspec": {
   "display_name": ".venv",
   "language": "python",
   "name": "python3"
  },
  "language_info": {
   "name": "python",
   "version": "3.12.3"
  }
 },
 "nbformat": 4,
 "nbformat_minor": 5
}
