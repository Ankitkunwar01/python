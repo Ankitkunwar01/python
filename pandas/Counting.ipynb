{
 "cells": [
  {
   "cell_type": "markdown",
   "id": "35852547",
   "metadata": {},
   "source": [
    "Dropping duplicate names\n",
    "To list each dog name only once, we use drop_duplicates(subset='name'). However, this removes dogs with the same name but different breeds (e.g., Max the Labrador). To fix this, we must consider more details and drop duplicates based on name, breed, and weight_kg instead."
   ]
  },
  {
   "cell_type": "code",
   "execution_count": 6,
   "id": "63dfdd8a",
   "metadata": {},
   "outputs": [
    {
     "name": "stdout",
     "output_type": "stream",
     "text": [
      "        date     name     breed  weight_kg\n",
      "0 2025-01-01    Buddy  Labrador         30\n",
      "1 2025-01-02      Max    Poodle         10\n",
      "2 2025-01-03    Bella   Bulldog         25\n",
      "3 2025-01-04  Charlie    Beagle         20\n",
      "4 2025-01-05     Lucy    Poodle         10\n",
      "        date     name     breed  weight_kg\n",
      "0 2025-01-01    Buddy  Labrador         30\n",
      "1 2025-01-02      Max    Poodle         10\n",
      "2 2025-01-03    Bella   Bulldog         25\n",
      "3 2025-01-04  Charlie    Beagle         20\n",
      "4 2025-01-05     Lucy    Poodle         10\n"
     ]
    }
   ],
   "source": [
    "import pandas as pd\n",
    "\n",
    "# Sample data with duplicated name, breed, and weight_kg\n",
    "data = {\n",
    "    'date': pd.date_range(start='2025-01-01', periods=20, freq='D'),\n",
    "    'name': ['Buddy', 'Max', 'Bella', 'Charlie', 'Lucy'] * 4,\n",
    "    'breed': ['Labrador', 'Poodle', 'Bulldog', 'Beagle', 'Poodle'] * 4,\n",
    "    'weight_kg': [30, 10, 25, 20, 10] * 4  # notice 'Poodle' with 10kg appears multiple times\n",
    "}\n",
    "\n",
    "df = pd.DataFrame(data)\n",
    "\n",
    "unique = df.drop_duplicates(subset=[\"name\",\"breed\"])\n",
    "# Show DataFrame\n",
    "print(df.drop_duplicates(subset=\"name\"))\n",
    "print(unique)\n"
   ]
  },
  {
   "cell_type": "markdown",
   "id": "25298c6a",
   "metadata": {},
   "source": [
    ". Easy as 1, 2, 3\n",
    "To count the dogs of each breed, we'll subset the breed column and use the value_counts method. We can also use the sort argument to get the breeds with the biggest counts on top."
   ]
  },
  {
   "cell_type": "code",
   "execution_count": 7,
   "id": "99685949",
   "metadata": {},
   "outputs": [
    {
     "name": "stdout",
     "output_type": "stream",
     "text": [
      "name\n",
      "Buddy      4\n",
      "Max        4\n",
      "Bella      4\n",
      "Charlie    4\n",
      "Lucy       4\n",
      "Name: count, dtype: int64\n"
     ]
    }
   ],
   "source": [
    "import pandas as pd\n",
    "\n",
    "# Sample data with duplicated name, breed, and weight_kg\n",
    "data = {\n",
    "    'date': pd.date_range(start='2025-01-01', periods=20, freq='D'),\n",
    "    'name': ['Buddy', 'Max', 'Bella', 'Charlie', 'Lucy'] * 4,\n",
    "    'breed': ['Labrador', 'Poodle', 'Bulldog', 'Beagle', 'Poodle'] * 4,\n",
    "    'weight_kg': [30, 10, 25, 20, 10] * 4  # notice 'Poodle' with 10kg appears multiple times\n",
    "}\n",
    "\n",
    "df = pd.DataFrame(data)\n",
    "print(df[\"name\"].value_counts())"
   ]
  },
  {
   "cell_type": "code",
   "execution_count": 8,
   "id": "51021f39",
   "metadata": {},
   "outputs": [
    {
     "name": "stdout",
     "output_type": "stream",
     "text": [
      "name\n",
      "Buddy      0.2\n",
      "Max        0.2\n",
      "Bella      0.2\n",
      "Charlie    0.2\n",
      "Lucy       0.2\n",
      "Name: proportion, dtype: float64\n"
     ]
    }
   ],
   "source": [
    "import pandas as pd\n",
    "\n",
    "# Sample data with duplicated name, breed, and weight_kg\n",
    "data = {\n",
    "    'date': pd.date_range(start='2025-01-01', periods=20, freq='D'),\n",
    "    'name': ['Buddy', 'Max', 'Bella', 'Charlie', 'Lucy'] * 4,\n",
    "    'breed': ['Labrador', 'Poodle', 'Bulldog', 'Beagle', 'Poodle'] * 4,\n",
    "    'weight_kg': [30, 10, 25, 20, 10] * 4  # notice 'Poodle' with 10kg appears multiple times\n",
    "}\n",
    "\n",
    "df = pd.DataFrame(data)\n",
    "print(df[\"name\"].value_counts(normalize=True))"
   ]
  }
 ],
 "metadata": {
  "kernelspec": {
   "display_name": ".venv",
   "language": "python",
   "name": "python3"
  },
  "language_info": {
   "codemirror_mode": {
    "name": "ipython",
    "version": 3
   },
   "file_extension": ".py",
   "mimetype": "text/x-python",
   "name": "python",
   "nbconvert_exporter": "python",
   "pygments_lexer": "ipython3",
   "version": "3.12.3"
  }
 },
 "nbformat": 4,
 "nbformat_minor": 5
}
