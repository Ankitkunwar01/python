{
 "cells": [
  {
   "cell_type": "markdown",
   "id": "76e79fdc",
   "metadata": {},
   "source": [
    "Adding a new column\n",
    "Creating and adding new columns can go by many names, including mutating a DataFrame, transforming a DataFrame, and feature engineering. Let's say we want to add a new column to our DataFrame that has each dog's height in meters instead of centimeters. On the left-hand side of the equals, we use square brackets with the name of the new column we want to create. On the right-hand side, we have the calculation. Notice that both the existing column and the new column we just created are in the DataFrame."
   ]
  },
  {
   "cell_type": "code",
   "execution_count": 25,
   "id": "c57d5a5e",
   "metadata": {},
   "outputs": [
    {
     "name": "stdout",
     "output_type": "stream",
     "text": [
      "      name            breed      color  height_cm  weight_kg date_of_birth  \\\n",
      "0    Bella         Labrador      Black         60         30    2018-03-14   \n",
      "1  Charlie           Poodle      White         45         18    2019-07-23   \n",
      "2      Max  German Shepherd      Brown         65         35    2017-11-05   \n",
      "3     Luna          Bulldog    Brindle         40         22    2020-01-10   \n",
      "4    Rocky           Beagle  Tri-color         38         10    2021-05-12   \n",
      "\n",
      "   height_m         bmi  \n",
      "0      0.60   83.333333  \n",
      "1      0.45   88.888889  \n",
      "2      0.65   82.840237  \n",
      "3      0.40  137.500000  \n",
      "4      0.38   69.252078  \n"
     ]
    }
   ],
   "source": [
    "import pandas as pd\n",
    "from io import StringIO\n",
    "\n",
    "data = \"\"\"\n",
    "name,breed,color,height_cm,weight_kg,date_of_birth\n",
    "Bella,Labrador,Black,60,30,2018-03-14\n",
    "Charlie,Poodle,White,45,18,2019-07-23\n",
    "Max,German Shepherd,Brown,65,35,2017-11-05\n",
    "Luna,Bulldog,Brindle,40,22,2020-01-10\n",
    "Rocky,Beagle,Tri-color,38,10,2021-05-12\n",
    "Coco,Dachshund,Brown,25,8,2020-09-29\n",
    "Buddy,Golden Retriever,Golden,58,32,2018-06-01\n",
    "Lucy,Pomeranian,Cream,22,4,2022-02-18\n",
    "Oscar,Boxer,Fawn,55,28,2019-12-30\n",
    "Milo,Husky,Grey-White,60,29,2017-08-08\n",
    "\"\"\"\n",
    "\n",
    "df = pd.read_csv(StringIO(data))\n",
    "df[\"height_m\"] =df[\"height_cm\"]/100\n",
    "df[\"bmi\"]=df[\"weight_kg\"]/df[\"height_m\"]**2\n",
    "print(df.head())\n"
   ]
  }
 ],
 "metadata": {
  "kernelspec": {
   "display_name": ".venv",
   "language": "python",
   "name": "python3"
  },
  "language_info": {
   "codemirror_mode": {
    "name": "ipython",
    "version": 3
   },
   "file_extension": ".py",
   "mimetype": "text/x-python",
   "name": "python",
   "nbconvert_exporter": "python",
   "pygments_lexer": "ipython3",
   "version": "3.12.3"
  }
 },
 "nbformat": 4,
 "nbformat_minor": 5
}
