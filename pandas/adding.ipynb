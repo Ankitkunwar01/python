{
 "cells": [
  {
   "cell_type": "code",
   "execution_count": null,
   "id": "c57d5a5e",
   "metadata": {},
   "outputs": [
    {
     "ename": "ValueError",
     "evalue": "DataFrame constructor not properly called!",
     "output_type": "error",
     "traceback": [
      "\u001b[31m---------------------------------------------------------------------------\u001b[39m",
      "\u001b[31mValueError\u001b[39m                                Traceback (most recent call last)",
      "\u001b[32m/tmp/ipykernel_6835/3624600462.py\u001b[39m in \u001b[36m?\u001b[39m\u001b[34m()\u001b[39m\n\u001b[32m     16\u001b[39m \"\"\"\n\u001b[32m     17\u001b[39m \n\u001b[32m     18\u001b[39m \u001b[38;5;66;03m# df = pd.read_csv(StringIO(data))\u001b[39;00m\n\u001b[32m     19\u001b[39m \u001b[38;5;66;03m# print(df.head())\u001b[39;00m\n\u001b[32m---> \u001b[39m\u001b[32m20\u001b[39m dogs = pd.DataFrame(data)\n\u001b[32m     21\u001b[39m print(dogs)\n",
      "\u001b[32m~/Desktop/python /.venv/lib/python3.12/site-packages/pandas/core/frame.py\u001b[39m in \u001b[36m?\u001b[39m\u001b[34m(self, data, index, columns, dtype, copy)\u001b[39m\n\u001b[32m    882\u001b[39m                 )\n\u001b[32m    883\u001b[39m         \u001b[38;5;66;03m# For data is scalar\u001b[39;00m\n\u001b[32m    884\u001b[39m         \u001b[38;5;28;01melse\u001b[39;00m:\n\u001b[32m    885\u001b[39m             \u001b[38;5;28;01mif\u001b[39;00m index \u001b[38;5;28;01mis\u001b[39;00m \u001b[38;5;28;01mNone\u001b[39;00m \u001b[38;5;28;01mor\u001b[39;00m columns \u001b[38;5;28;01mis\u001b[39;00m \u001b[38;5;28;01mNone\u001b[39;00m:\n\u001b[32m--> \u001b[39m\u001b[32m886\u001b[39m                 \u001b[38;5;28;01mraise\u001b[39;00m ValueError(\u001b[33m\"DataFrame constructor not properly called!\"\u001b[39m)\n\u001b[32m    887\u001b[39m \n\u001b[32m    888\u001b[39m             index = ensure_index(index)\n\u001b[32m    889\u001b[39m             columns = ensure_index(columns)\n",
      "\u001b[31mValueError\u001b[39m: DataFrame constructor not properly called!"
     ]
    }
   ],
   "source": [
    "import pandas as pd\n",
    "from io import StringIO\n",
    "\n",
    "data = \"\"\"\n",
    "name,breed,color,height_cm,weight_kg,date_of_birth,height_m\n",
    "Bella,Labrador,Black,60,30,2018-03-14,0.6\n",
    "Charlie,Poodle,White,45,18,2019-07-23,0.45\n",
    "Max,German Shepherd,Brown,65,35,2017-11-05,0.65\n",
    "Luna,Bulldog,Brindle,40,22,2020-01-10,0.4\n",
    "Rocky,Beagle,Tri-color,38,10,2021-05-12,0.38\n",
    "Coco,Dachshund,Brown,25,8,2020-09-29,0.25\n",
    "Buddy,Golden Retriever,Golden,58,32,2018-06-01,0.58\n",
    "Lucy,Pomeranian,Cream,22,4,2022-02-18,0.22\n",
    "Oscar,Boxer,Fawn,55,28,2019-12-30,0.55\n",
    "Milo,Husky,Grey-White,60,29,2017-08-08,0.6\n",
    "\"\"\"\n",
    "\n",
    "df = pd.read_csv(StringIO(data))\n",
    "print(df.head())\n"
   ]
  }
 ],
 "metadata": {
  "kernelspec": {
   "display_name": ".venv",
   "language": "python",
   "name": "python3"
  },
  "language_info": {
   "codemirror_mode": {
    "name": "ipython",
    "version": 3
   },
   "file_extension": ".py",
   "mimetype": "text/x-python",
   "name": "python",
   "nbconvert_exporter": "python",
   "pygments_lexer": "ipython3",
   "version": "3.12.3"
  }
 },
 "nbformat": 4,
 "nbformat_minor": 5
}
