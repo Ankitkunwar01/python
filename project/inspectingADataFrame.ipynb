{
 "cells": [
  {
   "cell_type": "markdown",
   "id": "97379b64",
   "metadata": {},
   "source": [
    "Easy: Use df.head() to view the top of the DataFrame."
   ]
  },
  {
   "cell_type": "code",
   "execution_count": 1,
   "id": "ce0266f1",
   "metadata": {},
   "outputs": [
    {
     "name": "stdout",
     "output_type": "stream",
     "text": [
      "      Name  Age\n",
      "0    Alice   25\n",
      "1      Bob   30\n",
      "2  Charlie   35\n"
     ]
    }
   ],
   "source": [
    "import pandas as pd\n",
    "\n",
    "data = {\n",
    "    'Name': ['Alice', 'Bob', 'Charlie'],\n",
    "    'Age': [25, 30, 35]\n",
    "}\n",
    "df = pd.DataFrame(data)\n",
    "print(df.head())\n"
   ]
  },
  {
   "cell_type": "markdown",
   "id": "6d846ae6",
   "metadata": {},
   "source": [
    "Medium: Use df.info() to inspect types and nulls."
   ]
  },
  {
   "cell_type": "code",
   "execution_count": 3,
   "id": "4ab76709",
   "metadata": {},
   "outputs": [
    {
     "name": "stdout",
     "output_type": "stream",
     "text": [
      "<class 'pandas.core.frame.DataFrame'>\n",
      "RangeIndex: 3 entries, 0 to 2\n",
      "Data columns (total 2 columns):\n",
      " #   Column  Non-Null Count  Dtype \n",
      "---  ------  --------------  ----- \n",
      " 0   Name    3 non-null      object\n",
      " 1   Age     3 non-null      int64 \n",
      "dtypes: int64(1), object(1)\n",
      "memory usage: 180.0+ bytes\n",
      "None\n"
     ]
    }
   ],
   "source": [
    "import pandas as pd\n",
    "\n",
    "data = {\n",
    "    'Name': ['Alice', 'Bob', 'Charlie'],\n",
    "    'Age': [25, 30, 35]\n",
    "}\n",
    "df = pd.DataFrame(data)\n",
    "print(df.info())\n"
   ]
  },
  {
   "cell_type": "markdown",
   "id": "99b4aa84",
   "metadata": {},
   "source": [
    "Hard: Combine .describe() and .info() to create a summary report."
   ]
  },
  {
   "cell_type": "code",
   "execution_count": 4,
   "id": "c808c170",
   "metadata": {},
   "outputs": [
    {
     "name": "stdout",
     "output_type": "stream",
     "text": [
      "=== DataFrame Info ===\n",
      "<class 'pandas.core.frame.DataFrame'>\n",
      "RangeIndex: 3 entries, 0 to 2\n",
      "Data columns (total 2 columns):\n",
      " #   Column  Non-Null Count  Dtype \n",
      "---  ------  --------------  ----- \n",
      " 0   Name    3 non-null      object\n",
      " 1   Age     3 non-null      int64 \n",
      "dtypes: int64(1), object(1)\n",
      "memory usage: 180.0+ bytes\n",
      "\n",
      "=== DataFrame Summary ===\n",
      "         Name   Age\n",
      "count       3   3.0\n",
      "unique      3   NaN\n",
      "top     Alice   NaN\n",
      "freq        1   NaN\n",
      "mean      NaN  30.0\n",
      "std       NaN   5.0\n",
      "min       NaN  25.0\n",
      "25%       NaN  27.5\n",
      "50%       NaN  30.0\n",
      "75%       NaN  32.5\n",
      "max       NaN  35.0\n"
     ]
    }
   ],
   "source": [
    "import pandas as pd\n",
    "import io\n",
    "\n",
    "data = {\n",
    "    'Name': ['Alice', 'Bob', 'Charlie'],\n",
    "    'Age': [25, 30, 35]\n",
    "}\n",
    "df = pd.DataFrame(data)\n",
    "\n",
    "# Capture and print .info()\n",
    "buffer = io.StringIO()\n",
    "df.info(buf=buffer)\n",
    "print(\"=== DataFrame Info ===\")\n",
    "print(buffer.getvalue())\n",
    "\n",
    "# Print .describe()\n",
    "print(\"=== DataFrame Summary ===\")\n",
    "print(df.describe(include='all'))\n",
    "\n"
   ]
  }
 ],
 "metadata": {
  "kernelspec": {
   "display_name": ".venv",
   "language": "python",
   "name": "python3"
  },
  "language_info": {
   "codemirror_mode": {
    "name": "ipython",
    "version": 3
   },
   "file_extension": ".py",
   "mimetype": "text/x-python",
   "name": "python",
   "nbconvert_exporter": "python",
   "pygments_lexer": "ipython3",
   "version": "3.12.3"
  }
 },
 "nbformat": 4,
 "nbformat_minor": 5
}
