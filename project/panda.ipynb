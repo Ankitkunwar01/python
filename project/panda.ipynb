{
 "cells": [
  {
   "cell_type": "markdown",
   "id": "69a70433",
   "metadata": {},
   "source": [
    " Create a DataFrame with name and city columns."
   ]
  },
  {
   "cell_type": "code",
   "execution_count": 2,
   "id": "9eb8083a",
   "metadata": {},
   "outputs": [
    {
     "name": "stdout",
     "output_type": "stream",
     "text": [
      "   name    city\n",
      "0   ram  butwal\n",
      "1  hari     ktm\n"
     ]
    }
   ],
   "source": [
    "import pandas as pd\n",
    "data = {\n",
    "    'name' : [\"ram\",\"hari\"],\n",
    "    'city':[\"butwal\",\"ktm\"]\n",
    "\n",
    "}\n",
    "df=pd.DataFrame(data)\n",
    "print(df)"
   ]
  },
  {
   "cell_type": "markdown",
   "id": "6e9085e0",
   "metadata": {},
   "source": [
    "Medium: Add a third column called \"Age\" and fill it with numbers."
   ]
  },
  {
   "cell_type": "code",
   "execution_count": 3,
   "id": "6a94d167",
   "metadata": {},
   "outputs": [
    {
     "name": "stdout",
     "output_type": "stream",
     "text": [
      "   name    city  age\n",
      "0   ram  butwal   30\n",
      "1  hari     ktm   20\n"
     ]
    }
   ],
   "source": [
    "import pandas as pd\n",
    "data = {\n",
    "    'name' : [\"ram\",\"hari\"],\n",
    "    'city':[\"butwal\",\"ktm\"]\n",
    "\n",
    "}\n",
    "df=pd.DataFrame(data)\n",
    "df[\"age\"]=[30,20]\n",
    "print(df)"
   ]
  },
  {
   "cell_type": "code",
   "execution_count": null,
   "id": "b81fb9e6",
   "metadata": {},
   "outputs": [],
   "source": [
    "Hard: Load a CSV file and convert it into a DataFrame."
   ]
  }
 ],
 "metadata": {
  "kernelspec": {
   "display_name": ".venv",
   "language": "python",
   "name": "python3"
  },
  "language_info": {
   "codemirror_mode": {
    "name": "ipython",
    "version": 3
   },
   "file_extension": ".py",
   "mimetype": "text/x-python",
   "name": "python",
   "nbconvert_exporter": "python",
   "pygments_lexer": "ipython3",
   "version": "3.12.3"
  }
 },
 "nbformat": 4,
 "nbformat_minor": 5
}
