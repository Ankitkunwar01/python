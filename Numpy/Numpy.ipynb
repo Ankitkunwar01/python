{
 "cells": [
  {
   "cell_type": "markdown",
   "id": "3a19a072",
   "metadata": {},
   "source": [
    "making 2d array and 3d array"
   ]
  },
  {
   "cell_type": "code",
   "execution_count": 2,
   "id": "f18e4fac",
   "metadata": {},
   "outputs": [
    {
     "name": "stdout",
     "output_type": "stream",
     "text": [
      "[[[1 2]\n",
      "  [4 6]]\n",
      "\n",
      " [[1 2]\n",
      "  [4 6]]\n",
      "\n",
      " [[1 2]\n",
      "  [4 6]]]\n"
     ]
    }
   ],
   "source": [
    "import numpy as np\n",
    "array_1_2D = np.array([[1,2],[4,6]])\n",
    "array_2_2D = np.array([[1,2],[4,6]])\n",
    "array_3_2D = np.array([[1,2],[4,6]])\n",
    "array_3D = np.array([array_1_2D,array_2_2D,array_3_2D])\n",
    "print(array_3D)"
   ]
  },
  {
   "cell_type": "markdown",
   "id": "9e72ba09",
   "metadata": {},
   "source": [
    " 4D arrays\n",
    "Four-dimensional arrays can be harder to visualize since we don't have a fourth dimension. Think of a 4D array as a 2D array filled with 3D arrays."
   ]
  },
  {
   "cell_type": "markdown",
   "id": "bc8e05cf",
   "metadata": {},
   "source": [
    "A vector refers to an array with one dimension"
   ]
  },
  {
   "cell_type": "markdown",
   "id": "319d469b",
   "metadata": {},
   "source": [
    "two dimensioal array call matrix"
   ]
  },
  {
   "cell_type": "markdown",
   "id": "3b9d8601",
   "metadata": {},
   "source": [
    "finding the array's shape"
   ]
  },
  {
   "cell_type": "code",
   "execution_count": 1,
   "id": "e87c02ed",
   "metadata": {},
   "outputs": [
    {
     "name": "stdout",
     "output_type": "stream",
     "text": [
      "[[0. 0. 0. 0.]\n",
      " [0. 0. 0. 0.]\n",
      " [0. 0. 0. 0.]]\n",
      "(3, 4)\n"
     ]
    }
   ],
   "source": [
    "import numpy as np\n",
    "list = np.zeros((3,4))\n",
    "print(list)\n",
    "print(list.shape)\n"
   ]
  },
  {
   "cell_type": "markdown",
   "id": "688f076e",
   "metadata": {},
   "source": [
    "Flattening an array"
   ]
  },
  {
   "cell_type": "code",
   "execution_count": 2,
   "id": "41844c6d",
   "metadata": {},
   "outputs": [
    {
     "name": "stdout",
     "output_type": "stream",
     "text": [
      "[[1 2]\n",
      " [4 6]\n",
      " [6 6]]\n",
      "[1 2 4 6 6 6]\n"
     ]
    }
   ],
   "source": [
    "import numpy as np\n",
    "array = np.array([[1,2],[4,6],[6,6]])\n",
    "print(array)\n",
    "print(array.flatten())"
   ]
  },
  {
   "cell_type": "markdown",
   "id": "c9c2f2cb",
   "metadata": {},
   "source": [
    "Reshaping an array\n",
    "The dot-reshape method allows us to redefine the shape of an array without changing the elements that make up the array. In this example, we take a 2D array with three rows and two columns and change it into a 2D array with two rows and three columns. The shape tuple passed to dot-reshape must be compatible with the number of elements in an array. This array could not be reshaped to a shape of (3, 3), since three times three is nine, and the array has only six elements."
   ]
  },
  {
   "cell_type": "code",
   "execution_count": 4,
   "id": "c1e5a781",
   "metadata": {},
   "outputs": [
    {
     "name": "stdout",
     "output_type": "stream",
     "text": [
      "[[1 2]\n",
      " [3 4]\n",
      " [6 7]]\n",
      "[[1 2 3]\n",
      " [4 6 7]]\n"
     ]
    }
   ],
   "source": [
    "import numpy as np\n",
    "array = np.array([[1,2],[3,4],[6,7]])\n",
    "print(array)\n",
    "print(array.reshape(2,3))"
   ]
  }
 ],
 "metadata": {
  "kernelspec": {
   "display_name": ".venv",
   "language": "python",
   "name": "python3"
  },
  "language_info": {
   "codemirror_mode": {
    "name": "ipython",
    "version": 3
   },
   "file_extension": ".py",
   "mimetype": "text/x-python",
   "name": "python",
   "nbconvert_exporter": "python",
   "pygments_lexer": "ipython3",
   "version": "3.12.3"
  }
 },
 "nbformat": 4,
 "nbformat_minor": 5
}
