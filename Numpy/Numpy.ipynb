{
 "cells": [
  {
   "cell_type": "markdown",
   "id": "3a19a072",
   "metadata": {},
   "source": [
    "making 2d array and 3d array"
   ]
  },
  {
   "cell_type": "code",
   "execution_count": 2,
   "id": "f18e4fac",
   "metadata": {},
   "outputs": [
    {
     "name": "stdout",
     "output_type": "stream",
     "text": [
      "[[[1 2]\n",
      "  [4 6]]\n",
      "\n",
      " [[1 2]\n",
      "  [4 6]]\n",
      "\n",
      " [[1 2]\n",
      "  [4 6]]]\n"
     ]
    }
   ],
   "source": [
    "import numpy as np\n",
    "array_1_2D = np.array([[1,2],[4,6]])\n",
    "array_2_2D = np.array([[1,2],[4,6]])\n",
    "array_3_2D = np.array([[1,2],[4,6]])\n",
    "array_3D = np.array([array_1_2D,array_2_2D,array_3_2D])\n",
    "print(array_3D)"
   ]
  }
 ],
 "metadata": {
  "kernelspec": {
   "display_name": ".venv",
   "language": "python",
   "name": "python3"
  },
  "language_info": {
   "codemirror_mode": {
    "name": "ipython",
    "version": 3
   },
   "file_extension": ".py",
   "mimetype": "text/x-python",
   "name": "python",
   "nbconvert_exporter": "python",
   "pygments_lexer": "ipython3",
   "version": "3.12.3"
  }
 },
 "nbformat": 4,
 "nbformat_minor": 5
}
