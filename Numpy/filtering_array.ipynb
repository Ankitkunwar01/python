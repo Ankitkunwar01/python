{
 "cells": [
  {
   "cell_type": "markdown",
   "id": "d5a7f589",
   "metadata": {},
   "source": [
    "Filering array"
   ]
  },
  {
   "cell_type": "markdown",
   "id": "0f4450f3",
   "metadata": {},
   "source": [
    "Two ways to filter \n",
    "1. masks and fancy indexing \n",
    "2. np.where()"
   ]
  },
  {
   "cell_type": "markdown",
   "id": "c8ba49f5",
   "metadata": {},
   "source": [
    "boolean masks"
   ]
  },
  {
   "cell_type": "code",
   "execution_count": 3,
   "id": "58708f15",
   "metadata": {},
   "outputs": [
    {
     "data": {
      "text/plain": [
       "array([False,  True, False,  True, False])"
      ]
     },
     "execution_count": 3,
     "metadata": {},
     "output_type": "execute_result"
    }
   ],
   "source": [
    "import numpy as np\n",
    "one_to_five = np.arange(1,6)\n",
    "one_to_five\n",
    "mask = one_to_five % 2 ==0\n",
    "mask"
   ]
  },
  {
   "cell_type": "markdown",
   "id": "13baee1b",
   "metadata": {},
   "source": [
    "filtering with fancy indexing"
   ]
  },
  {
   "cell_type": "code",
   "execution_count": null,
   "id": "3db8470c",
   "metadata": {},
   "outputs": [
    {
     "data": {
      "text/plain": [
       "array([2, 4])"
      ]
     },
     "execution_count": 4,
     "metadata": {},
     "output_type": "execute_result"
    }
   ],
   "source": [
    "import numpy as np\n",
    "one_to_five = np.arange(1,6)\n",
    "mask = one_to_five % 2 ==0\n",
    "one_to_five[mask]\n"
   ]
  },
  {
   "cell_type": "markdown",
   "id": "0b44c92f",
   "metadata": {},
   "source": [
    "2d fancy indexing"
   ]
  },
  {
   "cell_type": "code",
   "execution_count": 3,
   "id": "2e803c75",
   "metadata": {},
   "outputs": [
    {
     "data": {
      "text/plain": [
       "array([[ 2, 22],\n",
       "       [ 3, 24],\n",
       "       [ 4, 26]])"
      ]
     },
     "execution_count": 3,
     "metadata": {},
     "output_type": "execute_result"
    }
   ],
   "source": [
    "import numpy as np\n",
    "classroom_ids_and_sizes = np.array([[2,22],[2,23],[3,24],[4,26]])\n",
    "mask=classroom_ids_and_sizes[:,1]%2 ==0\n",
    "classroom_ids_and_sizes[mask]\n"
   ]
  },
  {
   "cell_type": "markdown",
   "id": "0d3e77d5",
   "metadata": {},
   "source": [
    "fancy indexing vs. np.where()\n",
    "We've seen that fancy indexing returns a filtered array of elements which meet a condition. np-dot-where returns an array of indices of elements which meet the condition. This can be useful when indices are needed later to direct NumPy where to apply code. np-dot-where can also be used for combining data as well as filtering arrays: it can pull different elements into a new array based on whether a condition is met."
   ]
  },
  {
   "cell_type": "code",
   "execution_count": null,
   "id": "839b0a49",
   "metadata": {},
   "outputs": [],
   "source": []
  }
 ],
 "metadata": {
  "kernelspec": {
   "display_name": ".venv",
   "language": "python",
   "name": "python3"
  },
  "language_info": {
   "codemirror_mode": {
    "name": "ipython",
    "version": 3
   },
   "file_extension": ".py",
   "mimetype": "text/x-python",
   "name": "python",
   "nbconvert_exporter": "python",
   "pygments_lexer": "ipython3",
   "version": "3.12.3"
  }
 },
 "nbformat": 4,
 "nbformat_minor": 5
}
