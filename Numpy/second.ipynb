{
 "cells": [
  {
   "cell_type": "markdown",
   "id": "2c57b7cf",
   "metadata": {},
   "source": [
    "Indexing 1D arrays\n",
    "Indexing is an order-based method for accessing data. NumPy indexing is zero-based, meaning the first index is index zero. Array indexing uses square brackets, similar to indexing Python lists"
   ]
  },
  {
   "cell_type": "code",
   "execution_count": 2,
   "id": "30c795a4",
   "metadata": {},
   "outputs": [
    {
     "data": {
      "text/plain": [
       "np.int64(6)"
      ]
     },
     "execution_count": 2,
     "metadata": {},
     "output_type": "execute_result"
    }
   ],
   "source": [
    "import  numpy as np \n",
    "array = np.array([1,3,4,6])\n",
    "array[3]"
   ]
  },
  {
   "cell_type": "markdown",
   "id": "8df4d1a8",
   "metadata": {},
   "source": [
    "Slicing 1D array\n",
    "Slicing extracts a subset of data based on given indices from one array and creates a new array with the sliced data. To slice, provide a start and stop value, separated by a colon and enclosed in square brackets. The element at the start index is included in the result, but the one at the stop index is not: here, the number 10 at index four is excluded from the result."
   ]
  },
  {
   "cell_type": "code",
   "execution_count": 3,
   "id": "1866d443",
   "metadata": {},
   "outputs": [
    {
     "data": {
      "text/plain": [
       "array([6, 8])"
      ]
     },
     "execution_count": 3,
     "metadata": {},
     "output_type": "execute_result"
    }
   ],
   "source": [
    "import numpy as np\n",
    "array = np.array([2,4,6,8,10])\n",
    "array[2:4]"
   ]
  },
  {
   "cell_type": "markdown",
   "id": "3faa4633",
   "metadata": {},
   "source": [
    "Slicing  2D array\n"
   ]
  },
  {
   "cell_type": "code",
   "execution_count": 6,
   "id": "f20cbd51",
   "metadata": {},
   "outputs": [
    {
     "data": {
      "text/plain": [
       "array([[3]])"
      ]
     },
     "execution_count": 6,
     "metadata": {},
     "output_type": "execute_result"
    }
   ],
   "source": [
    "import numpy as np\n",
    "array =np.array([[0,0,2],[0,0,7],[0,6,3]])\n",
    "array[2:3,2:3]"
   ]
  }
 ],
 "metadata": {
  "kernelspec": {
   "display_name": ".venv",
   "language": "python",
   "name": "python3"
  },
  "language_info": {
   "codemirror_mode": {
    "name": "ipython",
    "version": 3
   },
   "file_extension": ".py",
   "mimetype": "text/x-python",
   "name": "python",
   "nbconvert_exporter": "python",
   "pygments_lexer": "ipython3",
   "version": "3.12.3"
  }
 },
 "nbformat": 4,
 "nbformat_minor": 5
}
