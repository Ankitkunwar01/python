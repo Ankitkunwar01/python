{
 "cells": [
  {
   "cell_type": "markdown",
   "id": "c28ea6d9",
   "metadata": {},
   "source": [
    " Slicing\n",
    "Recall that we can slice 3D RGB data to get red, green, and blue 2D arrays. Values in the red_array correspond to the red values from each pixel in the original array of all red, green, and blue values."
   ]
  },
  {
   "cell_type": "code",
   "execution_count": 2,
   "id": "18ee9cfb",
   "metadata": {},
   "outputs": [
    {
     "data": {
      "text/plain": [
       "array([[255, 255, 255],\n",
       "       [255,   0,   0],\n",
       "       [  0,   0,   0]])"
      ]
     },
     "execution_count": 2,
     "metadata": {},
     "output_type": "execute_result"
    }
   ],
   "source": [
    "import numpy as np\n",
    "import matplotlib as plt\n",
    "rgb = np.array([[[255,0,0],[255,255,0],[255,255,255]],\n",
    "                [[255,0,255],[0,255,0],[0,255,255]],\n",
    "                [[0,0,0],[0,255,255],[0,0,255]]])\n",
    "red_array = rgb[:,:,0]\n",
    "green_array = rgb[:,:,1]\n",
    "blue_array =rgb[:,:,2]\n",
    "red_array"
   ]
  },
  {
   "cell_type": "markdown",
   "id": "0741dc06",
   "metadata": {},
   "source": [
    "Splitting arrays\n",
    "We can also unpack arrays using np-dot-split, a function which accepts three arguments: the array to split, the number of equally-sized arrays desired after the split, and the axis to split along. Here we split the RGB array into three arrays along the third axis, at index two, in order to isolate the red, green, and blue values. Since np-dot-split allows multiple assignment, it also saves us some code. When we split an array, the resulting arrays have the same number of dimensions as the original array. Notice that our red_array is still three-dimensional."
   ]
  },
  {
   "cell_type": "code",
   "execution_count": 4,
   "id": "4f279a13",
   "metadata": {},
   "outputs": [
    {
     "data": {
      "text/plain": [
       "(3, 3, 1)"
      ]
     },
     "execution_count": 4,
     "metadata": {},
     "output_type": "execute_result"
    }
   ],
   "source": [
    "import numpy as np\n",
    "import matplotlib as plt\n",
    "rgb = np.array([[[255,0,0],[255,255,0],[255,255,255]],\n",
    "                [[255,0,255],[0,255,0],[0,255,255]],\n",
    "                [[0,0,0],[0,255,255],[0,0,255]]])\n",
    "red_array = rgb[:,:,0]\n",
    "green_array = rgb[:,:,1]\n",
    "blue_array =rgb[:,:,2]\n",
    "red_array,green_array,blue_array = np.split(rgb,3,axis=2)\n",
    "red_array.shape"
   ]
  },
  {
   "cell_type": "code",
   "execution_count": 5,
   "id": "714950f0",
   "metadata": {},
   "outputs": [
    {
     "data": {
      "text/plain": [
       "array([[255, 255, 255],\n",
       "       [255,   0,   0],\n",
       "       [  0,   0,   0]])"
      ]
     },
     "execution_count": 5,
     "metadata": {},
     "output_type": "execute_result"
    }
   ],
   "source": [
    "import numpy as np\n",
    "import matplotlib as plt\n",
    "rgb = np.array([[[255,0,0],[255,255,0],[255,255,255]],\n",
    "                [[255,0,255],[0,255,0],[0,255,255]],\n",
    "                [[0,0,0],[0,255,255],[0,0,255]]])\n",
    "red_array = rgb[:,:,0]\n",
    "green_array = rgb[:,:,1]\n",
    "blue_array =rgb[:,:,2]\n",
    "red_array,green_array,blue_array = np.split(rgb,3,axis=2)\n",
    "red_array_2D = red_array.reshape((3,3))\n",
    "red_array_2D"
   ]
  },
  {
   "cell_type": "code",
   "execution_count": 6,
   "id": "d4e865c1",
   "metadata": {},
   "outputs": [
    {
     "ename": "AttributeError",
     "evalue": "module 'matplotlib' has no attribute 'imshow'",
     "output_type": "error",
     "traceback": [
      "\u001b[31m---------------------------------------------------------------------------\u001b[39m",
      "\u001b[31mAttributeError\u001b[39m                            Traceback (most recent call last)",
      "\u001b[36mCell\u001b[39m\u001b[36m \u001b[39m\u001b[32mIn[6]\u001b[39m\u001b[32m, line 7\u001b[39m\n\u001b[32m      3\u001b[39m rgb = np.array([[[\u001b[32m255\u001b[39m,\u001b[32m0\u001b[39m,\u001b[32m0\u001b[39m],[\u001b[32m255\u001b[39m,\u001b[32m255\u001b[39m,\u001b[32m0\u001b[39m],[\u001b[32m255\u001b[39m,\u001b[32m255\u001b[39m,\u001b[32m255\u001b[39m]],\n\u001b[32m      4\u001b[39m                 [[\u001b[32m255\u001b[39m,\u001b[32m0\u001b[39m,\u001b[32m255\u001b[39m],[\u001b[32m0\u001b[39m,\u001b[32m255\u001b[39m,\u001b[32m0\u001b[39m],[\u001b[32m0\u001b[39m,\u001b[32m255\u001b[39m,\u001b[32m255\u001b[39m]],\n\u001b[32m      5\u001b[39m                 [[\u001b[32m0\u001b[39m,\u001b[32m0\u001b[39m,\u001b[32m0\u001b[39m],[\u001b[32m0\u001b[39m,\u001b[32m255\u001b[39m,\u001b[32m255\u001b[39m],[\u001b[32m0\u001b[39m,\u001b[32m0\u001b[39m,\u001b[32m255\u001b[39m]]])\n\u001b[32m      6\u001b[39m red_array,green_array,blue_array = np.split(rgb,\u001b[32m3\u001b[39m,axis=\u001b[32m2\u001b[39m)\n\u001b[32m----> \u001b[39m\u001b[32m7\u001b[39m \u001b[43mplt\u001b[49m\u001b[43m.\u001b[49m\u001b[43mimshow\u001b[49m(red_array)\n\u001b[32m      8\u001b[39m plt.show()\n",
      "\u001b[36mFile \u001b[39m\u001b[32m~/Desktop/python /.venv/lib/python3.12/site-packages/matplotlib/_api/__init__.py:218\u001b[39m, in \u001b[36mcaching_module_getattr.<locals>.__getattr__\u001b[39m\u001b[34m(name)\u001b[39m\n\u001b[32m    216\u001b[39m \u001b[38;5;28;01mif\u001b[39;00m name \u001b[38;5;129;01min\u001b[39;00m props:\n\u001b[32m    217\u001b[39m     \u001b[38;5;28;01mreturn\u001b[39;00m props[name].\u001b[34m__get__\u001b[39m(instance)\n\u001b[32m--> \u001b[39m\u001b[32m218\u001b[39m \u001b[38;5;28;01mraise\u001b[39;00m \u001b[38;5;167;01mAttributeError\u001b[39;00m(\n\u001b[32m    219\u001b[39m     \u001b[33mf\u001b[39m\u001b[33m\"\u001b[39m\u001b[33mmodule \u001b[39m\u001b[38;5;132;01m{\u001b[39;00m\u001b[38;5;28mcls\u001b[39m.\u001b[34m__module__\u001b[39m\u001b[38;5;132;01m!r}\u001b[39;00m\u001b[33m has no attribute \u001b[39m\u001b[38;5;132;01m{\u001b[39;00mname\u001b[38;5;132;01m!r}\u001b[39;00m\u001b[33m\"\u001b[39m)\n",
      "\u001b[31mAttributeError\u001b[39m: module 'matplotlib' has no attribute 'imshow'"
     ]
    }
   ],
   "source": [
    "import numpy as np\n",
    "import matplotlib as plt\n",
    "rgb = np.array([[[255,0,0],[255,255,0],[255,255,255]],\n",
    "                [[255,0,255],[0,255,0],[0,255,255]],\n",
    "                [[0,0,0],[0,255,255],[0,0,255]]])\n",
    "red_array,green_array,blue_array = np.split(rgb,3,axis=2)\n",
    "plt.imshow(red_array)\n",
    "plt.show()"
   ]
  }
 ],
 "metadata": {
  "kernelspec": {
   "display_name": ".venv",
   "language": "python",
   "name": "python3"
  },
  "language_info": {
   "codemirror_mode": {
    "name": "ipython",
    "version": 3
   },
   "file_extension": ".py",
   "mimetype": "text/x-python",
   "name": "python",
   "nbconvert_exporter": "python",
   "pygments_lexer": "ipython3",
   "version": "3.12.3"
  }
 },
 "nbformat": 4,
 "nbformat_minor": 5
}
