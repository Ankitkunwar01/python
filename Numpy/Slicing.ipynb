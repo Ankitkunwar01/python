{
 "cells": [
  {
   "cell_type": "markdown",
   "id": "c28ea6d9",
   "metadata": {},
   "source": [
    " Slicing\n",
    "Recall that we can slice 3D RGB data to get red, green, and blue 2D arrays. Values in the red_array correspond to the red values from each pixel in the original array of all red, green, and blue values."
   ]
  },
  {
   "cell_type": "code",
   "execution_count": 2,
   "id": "18ee9cfb",
   "metadata": {},
   "outputs": [
    {
     "data": {
      "text/plain": [
       "array([[255, 255, 255],\n",
       "       [255,   0,   0],\n",
       "       [  0,   0,   0]])"
      ]
     },
     "execution_count": 2,
     "metadata": {},
     "output_type": "execute_result"
    }
   ],
   "source": [
    "import numpy as np\n",
    "import matplotlib as plt\n",
    "rgb = np.array([[[255,0,0],[255,255,0],[255,255,255]],\n",
    "                [[255,0,255],[0,255,0],[0,255,255]],\n",
    "                [[0,0,0],[0,255,255],[0,0,255]]])\n",
    "red_array = rgb[:,:,0]\n",
    "green_array = rgb[:,:,1]\n",
    "blue_array =rgb[:,:,2]\n",
    "red_array"
   ]
  },
  {
   "cell_type": "markdown",
   "id": "0741dc06",
   "metadata": {},
   "source": [
    "Splitting arrays\n",
    "We can also unpack arrays using np-dot-split, a function which accepts three arguments: the array to split, the number of equally-sized arrays desired after the split, and the axis to split along. Here we split the RGB array into three arrays along the third axis, at index two, in order to isolate the red, green, and blue values. Since np-dot-split allows multiple assignment, it also saves us some code. When we split an array, the resulting arrays have the same number of dimensions as the original array. Notice that our red_array is still three-dimensional."
   ]
  },
  {
   "cell_type": "code",
   "execution_count": 4,
   "id": "4f279a13",
   "metadata": {},
   "outputs": [
    {
     "data": {
      "text/plain": [
       "(3, 3, 1)"
      ]
     },
     "execution_count": 4,
     "metadata": {},
     "output_type": "execute_result"
    }
   ],
   "source": [
    "import numpy as np\n",
    "import matplotlib as plt\n",
    "rgb = np.array([[[255,0,0],[255,255,0],[255,255,255]],\n",
    "                [[255,0,255],[0,255,0],[0,255,255]],\n",
    "                [[0,0,0],[0,255,255],[0,0,255]]])\n",
    "red_array = rgb[:,:,0]\n",
    "green_array = rgb[:,:,1]\n",
    "blue_array =rgb[:,:,2]\n",
    "red_array,green_array,blue_array = np.split(rgb,3,axis=2)\n",
    "red_array.shape"
   ]
  },
  {
   "cell_type": "code",
   "execution_count": null,
   "id": "714950f0",
   "metadata": {},
   "outputs": [],
   "source": [
    "import numpy as np\n",
    "import matplotlib as plt\n",
    "rgb = np.array([[[255,0,0],[255,255,0],[255,255,255]],\n",
    "                [[255,0,255],[0,255,0],[0,255,255]],\n",
    "                [[0,0,0],[0,255,255],[0,0,255]]])\n",
    "red_array = rgb[:,:,0]\n",
    "green_array = rgb[:,:,1]\n",
    "blue_array =rgb[:,:,2]\n",
    "red_array,green_array,blue_array = np.split(rgb,3,axis=2)\n",
    "red_array_2D = red_"
   ]
  }
 ],
 "metadata": {
  "kernelspec": {
   "display_name": ".venv",
   "language": "python",
   "name": "python3"
  },
  "language_info": {
   "codemirror_mode": {
    "name": "ipython",
    "version": 3
   },
   "file_extension": ".py",
   "mimetype": "text/x-python",
   "name": "python",
   "nbconvert_exporter": "python",
   "pygments_lexer": "ipython3",
   "version": "3.12.3"
  }
 },
 "nbformat": 4,
 "nbformat_minor": 5
}
