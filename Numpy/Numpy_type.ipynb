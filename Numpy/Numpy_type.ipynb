{
 "cells": [
  {
   "cell_type": "markdown",
   "id": "5d2da0e9",
   "metadata": {},
   "source": [
    "NumPy data types are more specific than Python data types in that NumPy data types include both the type of data - such as integer or string - and the amount of memory available in bits. For example, the np-dot-int64 data type holds 64 bits, and np-dot-int32 holds 32 bits. NumPy data types can be optimized for memory by reducing the data type's bitsize when our data doesn't require a large bitsize"
   ]
  },
  {
   "cell_type": "markdown",
   "id": "00ab4d21",
   "metadata": {},
   "source": [
    " simple type of numpy :     \n",
    " np.int64\n",
    " np.int32\n",
    " np.float64\n",
    " np.float32"
   ]
  },
  {
   "cell_type": "markdown",
   "id": "b53768d6",
   "metadata": {},
   "source": [
    "The .dtype attribute"
   ]
  },
  {
   "cell_type": "code",
   "execution_count": 1,
   "id": "09a8ee06",
   "metadata": {},
   "outputs": [
    {
     "data": {
      "text/plain": [
       "dtype('float64')"
      ]
     },
     "execution_count": 1,
     "metadata": {},
     "output_type": "execute_result"
    }
   ],
   "source": [
    "import numpy as np\n",
    "np.array([132.232,2344.342]).dtype\n"
   ]
  },
  {
   "cell_type": "code",
   "execution_count": 1,
   "id": "7ad334c1",
   "metadata": {},
   "outputs": [
    {
     "data": {
      "text/plain": [
       "dtype('int64')"
      ]
     },
     "execution_count": 1,
     "metadata": {},
     "output_type": "execute_result"
    }
   ],
   "source": [
    "import numpy as np\n",
    "np.array([[1,2,3],[1,3,6]]).dtype"
   ]
  },
  {
   "cell_type": "markdown",
   "id": "4c127fb3",
   "metadata": {},
   "source": [
    "Type coercion\n",
    "What happens if we try to make an array out of a Python list with several data types? All the data changes to one data type: in this case, a string! Since NumPy did this without us telling it to, this is called type coercion. NumPy did this because while numbers are easily cast into strings, strings are not easily cast into numbers while still preserving the original data"
   ]
  },
  {
   "cell_type": "code",
   "execution_count": 2,
   "id": "cc4e5d0e",
   "metadata": {},
   "outputs": [
    {
     "data": {
      "text/plain": [
       "array(['True', '40', '40.04', 'boop'], dtype='<U32')"
      ]
     },
     "execution_count": 2,
     "metadata": {},
     "output_type": "execute_result"
    }
   ],
   "source": [
    "import numpy as np\n",
    "np.array([True,40,40.04,\"boop\" ])\n"
   ]
  },
  {
   "cell_type": "markdown",
   "id": "6bc28a2a",
   "metadata": {},
   "source": [
    "Type coercion hierarchy\n",
    "We just saw that adding a single string to an array means that NumPy will cast all elements into strings. Similarly, adding a single float to an array of integers will change all integers into floats, and adding a single integer to an array of Booleans will change all Booleans into integers. As we know, using one data type is one reason that NumPy has a lower memory consumption, but pay attention to the data type of the elements in your array as they can change without notice"
   ]
  },
  {
   "cell_type": "code",
   "execution_count": 4,
   "id": "b15e688d",
   "metadata": {},
   "outputs": [
    {
     "data": {
      "text/plain": [
       "dtype('float64')"
      ]
     },
     "execution_count": 4,
     "metadata": {},
     "output_type": "execute_result"
    }
   ],
   "source": [
    "import numpy as np\n",
    "np.array([0,1,1.2]).dtype"
   ]
  }
 ],
 "metadata": {
  "kernelspec": {
   "display_name": ".venv",
   "language": "python",
   "name": "python3"
  },
  "language_info": {
   "codemirror_mode": {
    "name": "ipython",
    "version": 3
   },
   "file_extension": ".py",
   "mimetype": "text/x-python",
   "name": "python",
   "nbconvert_exporter": "python",
   "pygments_lexer": "ipython3",
   "version": "3.12.3"
  }
 },
 "nbformat": 4,
 "nbformat_minor": 5
}
