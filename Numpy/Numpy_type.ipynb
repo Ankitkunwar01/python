{
 "cells": [
  {
   "cell_type": "markdown",
   "id": "5d2da0e9",
   "metadata": {},
   "source": [
    "NumPy data types are more specific than Python data types in that NumPy data types include both the type of data - such as integer or string - and the amount of memory available in bits. For example, the np-dot-int64 data type holds 64 bits, and np-dot-int32 holds 32 bits. NumPy data types can be optimized for memory by reducing the data type's bitsize when our data doesn't require a large bitsize"
   ]
  },
  {
   "cell_type": "markdown",
   "id": "00ab4d21",
   "metadata": {},
   "source": [
    " simple type of numpy :     \n",
    " np.int64\n",
    " np.int32\n",
    " np.float64\n",
    " np.float32"
   ]
  },
  {
   "cell_type": "markdown",
   "id": "b53768d6",
   "metadata": {},
   "source": [
    "The .dtype attribute"
   ]
  },
  {
   "cell_type": "code",
   "execution_count": 1,
   "id": "09a8ee06",
   "metadata": {},
   "outputs": [
    {
     "data": {
      "text/plain": [
       "dtype('float64')"
      ]
     },
     "execution_count": 1,
     "metadata": {},
     "output_type": "execute_result"
    }
   ],
   "source": [
    "import numpy as np\n",
    "np.array([132.232,2344.342]).dtype\n"
   ]
  }
 ],
 "metadata": {
  "kernelspec": {
   "display_name": ".venv",
   "language": "python",
   "name": "python3"
  },
  "language_info": {
   "codemirror_mode": {
    "name": "ipython",
    "version": 3
   },
   "file_extension": ".py",
   "mimetype": "text/x-python",
   "name": "python",
   "nbconvert_exporter": "python",
   "pygments_lexer": "ipython3",
   "version": "3.12.3"
  }
 },
 "nbformat": 4,
 "nbformat_minor": 5
}
