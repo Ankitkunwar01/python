{
 "cells": [
  {
   "cell_type": "markdown",
   "id": "a58891d0",
   "metadata": {},
   "source": [
    "2. Data augmentation\n",
    "\n",
    "Why are these array acrobatics useful? In machine learning, data augmentation is the process of adding additional data by performing small manipulations on data that is already available. For example, let's say we've got a dataset of a thousand images we are using to train a model classifying whether the items are recyclable or not. We could augment this data by flipping each image and use both the flipped and original images to train the model. This helps the model learn that image orientation isn't relevant to its classification as recyclable or not.\n",
    "\n"
   ]
  },
  {
   "cell_type": "markdown",
   "id": "929bb26d",
   "metadata": {},
   "source": [
    "Flipping an array\n",
    "\n",
    "np-dot-flip reverses the order of array elements. Its default behavior is to flip array elements along every axis. Let's flip the NumPy logo RGB data and compare it to the original. The first axis, representing ordered rows of pixels, is flipped so that the rows of pixels formerly at the bottom of the image now appear at the top. The second axis, representing ordered columns of pixels, is flipped so that columns of pixels formerly on the left now appear on the right. Finally, the red, green, and blue values in the third axis are flipped so that each blue value is replaced with the red value for that pixel and vice versa. Since green is the middle value, green values remain the same."
   ]
  },
  {
   "cell_type": "code",
   "execution_count": 1,
   "id": "8847ee35",
   "metadata": {},
   "outputs": [
    {
     "ename": "NameError",
     "evalue": "name 'logo_rgb_array' is not defined",
     "output_type": "error",
     "traceback": [
      "\u001b[31m---------------------------------------------------------------------------\u001b[39m",
      "\u001b[31mNameError\u001b[39m                                 Traceback (most recent call last)",
      "\u001b[36mCell\u001b[39m\u001b[36m \u001b[39m\u001b[32mIn[1]\u001b[39m\u001b[32m, line 3\u001b[39m\n\u001b[32m      1\u001b[39m \u001b[38;5;28;01mimport\u001b[39;00m\u001b[38;5;250m \u001b[39m\u001b[34;01mnumpy\u001b[39;00m\u001b[38;5;250m \u001b[39m\u001b[38;5;28;01mas\u001b[39;00m\u001b[38;5;250m \u001b[39m\u001b[34;01mnp\u001b[39;00m\n\u001b[32m      2\u001b[39m \u001b[38;5;28;01mimport\u001b[39;00m\u001b[38;5;250m \u001b[39m\u001b[34;01mmatplotlib\u001b[39;00m\u001b[38;5;250m \u001b[39m\u001b[38;5;28;01mas\u001b[39;00m\u001b[38;5;250m \u001b[39m\u001b[34;01mplt\u001b[39;00m\n\u001b[32m----> \u001b[39m\u001b[32m3\u001b[39m flipped_logo = np.flip(\u001b[43mlogo_rgb_array\u001b[49m)\n\u001b[32m      4\u001b[39m plt.imshow(flipped_logo)\n\u001b[32m      5\u001b[39m plt.show()\n",
      "\u001b[31mNameError\u001b[39m: name 'logo_rgb_array' is not defined"
     ]
    }
   ],
   "source": [
    "import numpy as np\n",
    "import matplotlib as plt\n",
    "flipped_logo = np.flip(logo_rgb_array)\n",
    "plt.imshow(flipped_logo)\n",
    "plt.show()"
   ]
  }
 ],
 "metadata": {
  "kernelspec": {
   "display_name": ".venv",
   "language": "python",
   "name": "python3"
  },
  "language_info": {
   "codemirror_mode": {
    "name": "ipython",
    "version": 3
   },
   "file_extension": ".py",
   "mimetype": "text/x-python",
   "name": "python",
   "nbconvert_exporter": "python",
   "pygments_lexer": "ipython3",
   "version": "3.12.3"
  }
 },
 "nbformat": 4,
 "nbformat_minor": 5
}
