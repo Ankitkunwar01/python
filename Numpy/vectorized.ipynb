{
 "cells": [
  {
   "cell_type": "markdown",
   "id": "8c2d9eee",
   "metadata": {},
   "source": [
    "Vectorized operation"
   ]
  },
  {
   "cell_type": "code",
   "execution_count": 1,
   "id": "f80c2d33",
   "metadata": {},
   "outputs": [
    {
     "data": {
      "text/plain": [
       "np.int64(4999950000)"
      ]
     },
     "execution_count": 1,
     "metadata": {},
     "output_type": "execute_result"
    }
   ],
   "source": [
    "import numpy as np\n",
    "np.arange(100000).sum()"
   ]
  },
  {
   "cell_type": "markdown",
   "id": "fde000bb",
   "metadata": {},
   "source": [
    "Used to add number 3 in 2D array"
   ]
  },
  {
   "cell_type": "code",
   "execution_count": 4,
   "id": "1954080a",
   "metadata": {},
   "outputs": [
    {
     "name": "stdout",
     "output_type": "stream",
     "text": [
      "[[4 5 6]\n",
      " [7 8 9]]\n"
     ]
    }
   ],
   "source": [
    "import numpy as np\n",
    "array = np.array([[1,2,3],[4,5,6]])\n",
    "for row in range(array.shape[0]):\n",
    "    for column in range(array.shape[1]):\n",
    "        array[row][column] += 3\n",
    "print(array)"
   ]
  },
  {
   "cell_type": "markdown",
   "id": "6efba709",
   "metadata": {},
   "source": [
    "numpy syntax"
   ]
  },
  {
   "cell_type": "code",
   "execution_count": 5,
   "id": "edc0fd2f",
   "metadata": {},
   "outputs": [
    {
     "data": {
      "text/plain": [
       "array([[4, 5, 6],\n",
       "       [7, 8, 9]])"
      ]
     },
     "execution_count": 5,
     "metadata": {},
     "output_type": "execute_result"
    }
   ],
   "source": [
    "import numpy as np\n",
    "array = np.array([[1,2,3],[4,5,6]])\n",
    "array + 3"
   ]
  },
  {
   "cell_type": "markdown",
   "id": "5e7e82a5",
   "metadata": {},
   "source": [
    "Multiplying two arrays together"
   ]
  },
  {
   "cell_type": "code",
   "execution_count": 6,
   "id": "721d8bfd",
   "metadata": {},
   "outputs": [
    {
     "data": {
      "text/plain": [
       "array([[ 0,  4,  9],\n",
       "       [ 8, 20, 12]])"
      ]
     },
     "execution_count": 6,
     "metadata": {},
     "output_type": "execute_result"
    }
   ],
   "source": [
    "import numpy as np\n",
    "array1 = np.array([[1,2,3],[4,5,6]])\n",
    "array2 = np.array([[0,2,3],[2,4,2]])\n",
    "array1* array2"
   ]
  },
  {
   "cell_type": "code",
   "execution_count": 7,
   "id": "a4ac12f8",
   "metadata": {},
   "outputs": [
    {
     "data": {
      "text/plain": [
       "array([[False, False,  True],\n",
       "       [ True,  True,  True]])"
      ]
     },
     "execution_count": 7,
     "metadata": {},
     "output_type": "execute_result"
    }
   ],
   "source": [
    "# Not just for math\n",
    "import numpy as np\n",
    "array = np.array([[1,2,3],[4,5,6]])\n",
    "array>2"
   ]
  },
  {
   "cell_type": "code",
   "execution_count": null,
   "id": "e1aa4009",
   "metadata": {},
   "outputs": [
    {
     "data": {
      "text/plain": [
       "True"
      ]
     },
     "execution_count": 8,
     "metadata": {},
     "output_type": "execute_result"
    }
   ],
   "source": [
    "import numpy as np\n",
    "array = np.array([\"Numpy\",\"is\",\"AWESOME\"])\n",
    "len(array)>2\n",
    "# is code is worng in numpy because len is python function not numpy funtion"
   ]
  },
  {
   "cell_type": "code",
   "execution_count": 9,
   "id": "8f8ec090",
   "metadata": {},
   "outputs": [
    {
     "data": {
      "text/plain": [
       "array([ True, False,  True])"
      ]
     },
     "execution_count": 9,
     "metadata": {},
     "output_type": "execute_result"
    }
   ],
   "source": [
    "import numpy as np\n",
    "array = np.array([\"Numpy\",\"is\",\"AWESOME\"])\n",
    "\n",
    "vectorized_len = np.vectorize(len)\n",
    "vectorized_len(array)>2"
   ]
  }
 ],
 "metadata": {
  "kernelspec": {
   "display_name": ".venv",
   "language": "python",
   "name": "python3"
  },
  "language_info": {
   "codemirror_mode": {
    "name": "ipython",
    "version": 3
   },
   "file_extension": ".py",
   "mimetype": "text/x-python",
   "name": "python",
   "nbconvert_exporter": "python",
   "pygments_lexer": "ipython3",
   "version": "3.12.3"
  }
 },
 "nbformat": 4,
 "nbformat_minor": 5
}
