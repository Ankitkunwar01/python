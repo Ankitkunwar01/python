{
 "cells": [
  {
   "cell_type": "markdown",
   "id": "8c2d9eee",
   "metadata": {},
   "source": [
    "Vectorized operation"
   ]
  },
  {
   "cell_type": "code",
   "execution_count": 1,
   "id": "f80c2d33",
   "metadata": {},
   "outputs": [
    {
     "data": {
      "text/plain": [
       "np.int64(4999950000)"
      ]
     },
     "execution_count": 1,
     "metadata": {},
     "output_type": "execute_result"
    }
   ],
   "source": [
    "import numpy as np\n",
    "np.arange(100000).sum()"
   ]
  },
  {
   "cell_type": "markdown",
   "id": "fde000bb",
   "metadata": {},
   "source": [
    "Used to add number 3 in 2D array"
   ]
  },
  {
   "cell_type": "code",
   "execution_count": 4,
   "id": "1954080a",
   "metadata": {},
   "outputs": [
    {
     "name": "stdout",
     "output_type": "stream",
     "text": [
      "[[4 5 6]\n",
      " [7 8 9]]\n"
     ]
    }
   ],
   "source": [
    "import numpy as np\n",
    "array = np.array([[1,2,3],[4,5,6]])\n",
    "for row in range(array.shape[0]):\n",
    "    for column in range(array.shape[1]):\n",
    "        array[row][column] += 3\n",
    "print(array)"
   ]
  },
  {
   "cell_type": "markdown",
   "id": "6efba709",
   "metadata": {},
   "source": [
    "numpy syntax"
   ]
  },
  {
   "cell_type": "code",
   "execution_count": 5,
   "id": "edc0fd2f",
   "metadata": {},
   "outputs": [
    {
     "data": {
      "text/plain": [
       "array([[4, 5, 6],\n",
       "       [7, 8, 9]])"
      ]
     },
     "execution_count": 5,
     "metadata": {},
     "output_type": "execute_result"
    }
   ],
   "source": [
    "import numpy as np\n",
    "array = np.array([[1,2,3],[4,5,6]])\n",
    "array + 3"
   ]
  }
 ],
 "metadata": {
  "kernelspec": {
   "display_name": ".venv",
   "language": "python",
   "name": "python3"
  },
  "language_info": {
   "codemirror_mode": {
    "name": "ipython",
    "version": 3
   },
   "file_extension": ".py",
   "mimetype": "text/x-python",
   "name": "python",
   "nbconvert_exporter": "python",
   "pygments_lexer": "ipython3",
   "version": "3.12.3"
  }
 },
 "nbformat": 4,
 "nbformat_minor": 5
}
