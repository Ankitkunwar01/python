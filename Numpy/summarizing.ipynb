{
 "cells": [
  {
   "cell_type": "markdown",
   "id": "54e36caa",
   "metadata": {},
   "source": [
    "Aggregating methods\n",
    "NumPy has several great ways to summarize array information. We'll look at five aggregating methods - dot-sum, dot-min, dot-max, dot-mean, and dot-cumsum."
   ]
  },
  {
   "cell_type": "code",
   "execution_count": 6,
   "id": "b8c7fd13",
   "metadata": {},
   "outputs": [
    {
     "data": {
      "text/plain": [
       "array([ 8, 14,  8])"
      ]
     },
     "execution_count": 6,
     "metadata": {},
     "output_type": "execute_result"
    }
   ],
   "source": [
    "import numpy as np\n",
    "security_breaches = np.array([[0,5,1],[2,4,3],[6,5,4],[0,0,0]])\n",
    "# security_breaches.sum()\n",
    "security_breaches.sum(axis=0)"
   ]
  }
 ],
 "metadata": {
  "kernelspec": {
   "display_name": ".venv",
   "language": "python",
   "name": "python3"
  },
  "language_info": {
   "codemirror_mode": {
    "name": "ipython",
    "version": 3
   },
   "file_extension": ".py",
   "mimetype": "text/x-python",
   "name": "python",
   "nbconvert_exporter": "python",
   "pygments_lexer": "ipython3",
   "version": "3.12.3"
  }
 },
 "nbformat": 4,
 "nbformat_minor": 5
}
