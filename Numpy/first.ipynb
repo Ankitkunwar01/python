{
 "cells": [
  {
   "cell_type": "code",
   "execution_count": null,
   "id": "7277e7cf",
   "metadata": {},
   "outputs": [
    {
     "name": "stdout",
     "output_type": "stream",
     "text": [
      "[[0.75576327 0.01643301 0.10295379]\n",
      " [0.87941508 0.81844054 0.84219882]]\n",
      "[1 2 3]\n"
     ]
    }
   ],
   "source": [
    "import numpy as np\n",
    "array = np.array([1, 2, 3])\n",
    "matrix = np.random.random((2, 3))\n",
    "print(matrix)\n",
    "print(array)\n"
   ]
  },
  {
   "cell_type": "code",
   "execution_count": 5,
   "id": "0226583f",
   "metadata": {},
   "outputs": [
    {
     "name": "stdout",
     "output_type": "stream",
     "text": [
      "[2 3 4 5 6 7]\n",
      "<class 'numpy.ndarray'>\n"
     ]
    }
   ],
   "source": [
    "import numpy as np\n",
    "python_list= [2,3,4,5,6,7]\n",
    "array = np.array(python_list)\n",
    "print(array)\n",
    "print(type(array))"
   ]
  },
  {
   "cell_type": "markdown",
   "id": "1eeb762c",
   "metadata": {},
   "source": [
    "Creating arrays : np.zeros()"
   ]
  },
  {
   "cell_type": "code",
   "execution_count": 6,
   "id": "49af48d2",
   "metadata": {},
   "outputs": [
    {
     "name": "stdout",
     "output_type": "stream",
     "text": [
      "[[0. 0. 0.]\n",
      " [0. 0. 0.]]\n"
     ]
    }
   ],
   "source": [
    "import numpy as np\n",
    "list = np.zeros((2,3))\n",
    "print(list)"
   ]
  },
  {
   "cell_type": "markdown",
   "id": "1c642732",
   "metadata": {},
   "source": [
    "Creating arrays : np.random.random()"
   ]
  },
  {
   "cell_type": "code",
   "execution_count": 7,
   "id": "fe2d559e",
   "metadata": {},
   "outputs": [
    {
     "name": "stdout",
     "output_type": "stream",
     "text": [
      "[[0.16972037 0.14566988 0.92363508 0.60887716]\n",
      " [0.38460735 0.04697466 0.97414713 0.2988133 ]\n",
      " [0.52075522 0.74688797 0.40916763 0.52160378]]\n"
     ]
    }
   ],
   "source": [
    "import numpy as np\n",
    "list = np.random.random((3,4))\n",
    "print(list)"
   ]
  },
  {
   "cell_type": "markdown",
   "id": "0cdad702",
   "metadata": {},
   "source": [
    "Creating arrays with np.arange()"
   ]
  },
  {
   "cell_type": "code",
   "execution_count": 9,
   "id": "b1ceef08",
   "metadata": {},
   "outputs": [
    {
     "name": "stdout",
     "output_type": "stream",
     "text": [
      "[-2 -1  0  1  2]\n"
     ]
    }
   ],
   "source": [
    "import numpy as np\n",
    "list = np.arange(-2,3)\n",
    "print(list)"
   ]
  }
 ],
 "metadata": {
  "kernelspec": {
   "display_name": ".venv",
   "language": "python",
   "name": "python3"
  },
  "language_info": {
   "codemirror_mode": {
    "name": "ipython",
    "version": 3
   },
   "file_extension": ".py",
   "mimetype": "text/x-python",
   "name": "python",
   "nbconvert_exporter": "python",
   "pygments_lexer": "ipython3",
   "version": "3.12.3"
  }
 },
 "nbformat": 4,
 "nbformat_minor": 5
}
