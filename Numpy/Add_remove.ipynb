{
 "cells": [
  {
   "cell_type": "markdown",
   "id": "9d08a5b5",
   "metadata": {},
   "source": [
    "Adding and removing data form using numpy"
   ]
  },
  {
   "cell_type": "markdown",
   "id": "a41bf0d4",
   "metadata": {},
   "source": [
    "\n",
    "Concatenating in NumPy\n",
    "\n",
    "In NumPy, concatenation refers to adding data to an array along any existing axis, such as adding columns to a 2D array. We concatenate using the np-dot-concatenate function."
   ]
  },
  {
   "cell_type": "code",
   "execution_count": 1,
   "id": "4fd798d3",
   "metadata": {},
   "outputs": [
    {
     "data": {
      "text/plain": [
       "array([[ 1, 22],\n",
       "       [ 2, 21],\n",
       "       [ 3, 27],\n",
       "       [ 4, 26],\n",
       "       [ 5, 30],\n",
       "       [ 5, 17]])"
      ]
     },
     "execution_count": 1,
     "metadata": {},
     "output_type": "execute_result"
    }
   ],
   "source": [
    "import numpy as np\n",
    "classroom_ids_and_sizes = np.array([[1,22],[2,21],[3,27],[4,26]])\n",
    "new_classroos = np.array([[5,30],[5,17]])\n",
    "np.concatenate((classroom_ids_and_sizes, new_classroos))"
   ]
  }
 ],
 "metadata": {
  "kernelspec": {
   "display_name": ".venv",
   "language": "python",
   "name": "python3"
  },
  "language_info": {
   "codemirror_mode": {
    "name": "ipython",
    "version": 3
   },
   "file_extension": ".py",
   "mimetype": "text/x-python",
   "name": "python",
   "nbconvert_exporter": "python",
   "pygments_lexer": "ipython3",
   "version": "3.12.3"
  }
 },
 "nbformat": 4,
 "nbformat_minor": 5
}
