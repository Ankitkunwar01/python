{
 "cells": [
  {
   "cell_type": "markdown",
   "id": "9d08a5b5",
   "metadata": {},
   "source": [
    "Adding and removing data form using numpy"
   ]
  },
  {
   "cell_type": "markdown",
   "id": "a41bf0d4",
   "metadata": {},
   "source": [
    "\n",
    "Concatenating in NumPy\n",
    "\n",
    "In NumPy, concatenation refers to adding data to an array along any existing axis, such as adding columns to a 2D array. We concatenate using the np-dot-concatenate function."
   ]
  },
  {
   "cell_type": "code",
   "execution_count": 1,
   "id": "4fd798d3",
   "metadata": {},
   "outputs": [
    {
     "data": {
      "text/plain": [
       "array([[ 1, 22],\n",
       "       [ 2, 21],\n",
       "       [ 3, 27],\n",
       "       [ 4, 26],\n",
       "       [ 5, 30],\n",
       "       [ 5, 17]])"
      ]
     },
     "execution_count": 1,
     "metadata": {},
     "output_type": "execute_result"
    }
   ],
   "source": [
    "import numpy as np\n",
    "classroom_ids_and_sizes = np.array([[1,22],[2,21],[3,27],[4,26]])\n",
    "new_classroos = np.array([[5,30],[5,17]])\n",
    "np.concatenate((classroom_ids_and_sizes, new_classroos))"
   ]
  },
  {
   "cell_type": "markdown",
   "id": "58b91ebe",
   "metadata": {},
   "source": [
    "Dimension compatibility\n",
    "\n",
    "The two arrays must also have the same number of dimensions. This is especially important to remember when concatenating a single row or column of data, usually held in a 1D array, with a 2D array. In order to append a single row or column, turn the 1D array into a 2D array using the dot-reshape method before appending."
   ]
  },
  {
   "cell_type": "markdown",
   "id": "445950eb",
   "metadata": {},
   "source": [
    "Creating Compatibility"
   ]
  },
  {
   "cell_type": "code",
   "execution_count": 5,
   "id": "ef362db2",
   "metadata": {},
   "outputs": [
    {
     "data": {
      "text/plain": [
       "array([[1],\n",
       "       [2],\n",
       "       [3]])"
      ]
     },
     "execution_count": 5,
     "metadata": {},
     "output_type": "execute_result"
    }
   ],
   "source": [
    "import numpy as np\n",
    "array_1D = np.array([1,2,3])\n",
    "column_array_2D = array_1D.reshape((3,1))\n",
    "column_array_2D"
   ]
  },
  {
   "cell_type": "markdown",
   "id": "a1d5506c",
   "metadata": {},
   "source": [
    "Deleting with np.delete()\n",
    "NumPy's np-dot-delete function takes three arguments: the array to delete from, a slice, index, or array of indices to be deleted, and the axis to be deleted along. For example, to delete the second row from a 2D array, the index to delete will be one, and the deletion will occur along the first axis, represented with a zero."
   ]
  }
 ],
 "metadata": {
  "kernelspec": {
   "display_name": ".venv",
   "language": "python",
   "name": "python3"
  },
  "language_info": {
   "codemirror_mode": {
    "name": "ipython",
    "version": 3
   },
   "file_extension": ".py",
   "mimetype": "text/x-python",
   "name": "python",
   "nbconvert_exporter": "python",
   "pygments_lexer": "ipython3",
   "version": "3.12.3"
  }
 },
 "nbformat": 4,
 "nbformat_minor": 5
}
