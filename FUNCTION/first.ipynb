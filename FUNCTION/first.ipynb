{
 "cells": [
  {
   "cell_type": "markdown",
   "id": "3701ed08",
   "metadata": {},
   "source": [
    "Even or Odd: Write a function that checks if a number is even or odd."
   ]
  },
  {
   "cell_type": "code",
   "execution_count": 3,
   "id": "12391914",
   "metadata": {},
   "outputs": [
    {
     "name": "stdout",
     "output_type": "stream",
     "text": [
      "21 is odd\n"
     ]
    }
   ],
   "source": [
    "def check( a):\n",
    "    if a%2==0:\n",
    "        print(f\"{a} is even\")\n",
    "    else:\n",
    "        print(f\"{a} is odd\")\n",
    "# check(10)\n",
    "# check(3)\n",
    "check(int(input(\"enter the number\")))"
   ]
  },
  {
   "cell_type": "markdown",
   "id": "fcd6279a",
   "metadata": {},
   "source": [
    "Functions with Return Values"
   ]
  },
  {
   "cell_type": "code",
   "execution_count": 5,
   "id": "881fb1c8",
   "metadata": {},
   "outputs": [
    {
     "name": "stdout",
     "output_type": "stream",
     "text": [
      "9\n"
     ]
    }
   ],
   "source": [
    "def add(a,b):\n",
    "    return a + b\n",
    "c=int(input(\"enter number\"))\n",
    "d=int(input(\"enter number\"))\n",
    "\n",
    "result = add(c,d)\n",
    "print(result)\n"
   ]
  },
  {
   "cell_type": "markdown",
   "id": "ee74db1b",
   "metadata": {},
   "source": [
    ": Write a function that takes a name and age as parameters and prints a greeting message.\n"
   ]
  },
  {
   "cell_type": "code",
   "execution_count": 7,
   "id": "406d3b2d",
   "metadata": {},
   "outputs": [
    {
     "name": "stdout",
     "output_type": "stream",
     "text": [
      "my name is ankit. I am 20 years old\n"
     ]
    }
   ],
   "source": [
    "def fun(name,age):\n",
    "    print(f\"my name is {name}. I am {age} years old\")\n",
    "fun(\"ankit\",20)"
   ]
  },
  {
   "cell_type": "markdown",
   "id": "7e23e633",
   "metadata": {},
   "source": [
    "Palindrome Check: Write a function that checks whether a given string is a palindrome."
   ]
  },
  {
   "cell_type": "code",
   "execution_count": 9,
   "id": "4f17304b",
   "metadata": {},
   "outputs": [
    {
     "name": "stdout",
     "output_type": "stream",
     "text": [
      "level is palindrome\n"
     ]
    }
   ],
   "source": [
    "def check(name):\n",
    "    text = name\n",
    "    reversed_text = text[::-1]\n",
    "    if name==reversed_text:\n",
    "        print(f\"{name} is palindrome\")\n",
    "    else:\n",
    "        print(f\"{name} is not palindrome\")\n",
    "check(input(\"enter name\"))\n"
   ]
  },
  {
   "cell_type": "markdown",
   "id": "39fbd4b6",
   "metadata": {},
   "source": [
    "Prime Number Check: Write a function that checks whether a given number is prime."
   ]
  },
  {
   "cell_type": "code",
   "execution_count": 10,
   "id": "1a8f3854",
   "metadata": {},
   "outputs": [
    {
     "name": "stdout",
     "output_type": "stream",
     "text": [
      "13 is prime number \n"
     ]
    }
   ],
   "source": [
    "def prime(num:int) -> int:\n",
    "    result = num % 2\n",
    "    if result == 0:\n",
    "        return \"this is not prime number\"\n",
    "    return f\"{num} is prime number \"\n",
    "\n",
    "print(prime(13))\n"
   ]
  }
 ],
 "metadata": {
  "kernelspec": {
   "display_name": ".venv",
   "language": "python",
   "name": "python3"
  },
  "language_info": {
   "codemirror_mode": {
    "name": "ipython",
    "version": 3
   },
   "file_extension": ".py",
   "mimetype": "text/x-python",
   "name": "python",
   "nbconvert_exporter": "python",
   "pygments_lexer": "ipython3",
   "version": "3.12.3"
  }
 },
 "nbformat": 4,
 "nbformat_minor": 5
}
