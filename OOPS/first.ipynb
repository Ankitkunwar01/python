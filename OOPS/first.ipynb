{
 "cells": [
  {
   "cell_type": "markdown",
   "id": "248fed1a",
   "metadata": {},
   "source": [
    "baisc class and Object"
   ]
  },
  {
   "cell_type": "markdown",
   "id": "c325e3cd",
   "metadata": {},
   "source": [
    "problem: Create a car class with attributes like brand and model. then create an instance of this class."
   ]
  },
  {
   "cell_type": "code",
   "execution_count": 5,
   "id": "0af209cf",
   "metadata": {},
   "outputs": [
    {
     "name": "stdout",
     "output_type": "stream",
     "text": [
      "car\n",
      "model\n"
     ]
    }
   ],
   "source": [
    "class Car:\n",
    "    def __init__(self,brand, model):\n",
    "       self.brand = brand\n",
    "       self.model = model\n",
    "\n",
    "\n",
    "my_car = Car(\"car\",\"model\")\n",
    "\n",
    "print(my_car.brand)\n",
    "print(my_car.model)"
   ]
  },
  {
   "cell_type": "markdown",
   "id": "dee0b5e6",
   "metadata": {},
   "source": [
    "Class Method and self\n",
    "\n",
    "add a method to the car class that display the full name of the car (brand and model)"
   ]
  },
  {
   "cell_type": "code",
   "execution_count": 8,
   "id": "8963d8c8",
   "metadata": {},
   "outputs": [
    {
     "name": "stdout",
     "output_type": "stream",
     "text": [
      "The car is tata and model is corolla\n"
     ]
    }
   ],
   "source": [
    "class Car:\n",
    "    def __init__(self,brand,model):\n",
    "        self.brand = brand\n",
    "        self.model = model\n",
    "\n",
    "    def  full_name(self):\n",
    "        return f\"The car is {self.brand} and model is {self.model}\"\n",
    "    \n",
    "my_car = Car(\"tata\",\"corolla\")\n",
    "print(my_car.full_name())"
   ]
  },
  {
   "cell_type": "markdown",
   "id": "baea2021",
   "metadata": {},
   "source": [
    "Inheritance\n",
    "Crate an ElectricCar class that inherits from the car class and has an additional attribute"
   ]
  },
  {
   "cell_type": "code",
   "execution_count": 10,
   "id": "dc8f3788",
   "metadata": {},
   "outputs": [
    {
     "name": "stdout",
     "output_type": "stream",
     "text": [
      "The car is tesla and model is model S\n"
     ]
    }
   ],
   "source": [
    "class Car:\n",
    "    def __init__(self,brand,model):\n",
    "        self.brand = brand\n",
    "        self.model = model\n",
    "    def  full_name(self):\n",
    "        return f\"The car is {self.brand} and model is {self.model}\"  \n",
    "    \n",
    "\n",
    "class ElectricCar(Car):\n",
    "    def __init__(self, brand, model,battery_size):\n",
    "        self.battery_size = battery_size\n",
    "        super().__init__(brand, model)\n",
    "\n",
    "my_car = ElectricCar(\"tesla\",\"model S\" , \"6542\")\n",
    "print(my_car.full_name())"
   ]
  },
  {
   "cell_type": "markdown",
   "id": "1d3cc3ab",
   "metadata": {},
   "source": [
    "Encapsulation\n",
    "Modify the car class to encapsulate the brand attribute , making it private , and provide a getter method for it.\n"
   ]
  },
  {
   "cell_type": "code",
   "execution_count": 14,
   "id": "d7fe5ed4",
   "metadata": {},
   "outputs": [
    {
     "name": "stdout",
     "output_type": "stream",
     "text": [
      "The car is Tesla !  and model is Model S\n"
     ]
    }
   ],
   "source": [
    "class Car:\n",
    "    def __init__(self, brand, model):\n",
    "        self.__brand = brand\n",
    "        self.model = model\n",
    "\n",
    "    def get_brand(self):\n",
    "        return self.__brand + \" ! \"\n",
    "    \n",
    "    def full_name(self):\n",
    "        return f\"The car is {self.get_brand()} and model is {self.model}\"  \n",
    "\n",
    "\n",
    "class ElectricCar(Car):\n",
    "    def __init__(self, brand, model, battery_size):\n",
    "        self.battery_size = battery_size\n",
    "        super().__init__(brand, model)\n",
    "\n",
    "my_car = ElectricCar(\"Tesla\", \"Model S\", \"6542\")\n",
    "print(my_car.full_name())\n"
   ]
  },
  {
   "cell_type": "markdown",
   "id": "225f09d0",
   "metadata": {},
   "source": [
    "private is use in python  (__)   "
   ]
  },
  {
   "cell_type": "markdown",
   "id": "86d43b37",
   "metadata": {},
   "source": [
    "polymorphism\n",
    "Demonstrate polymorphism by defining a method fuel_type in both car and ElectricCar class , but with different behaviors\n"
   ]
  },
  {
   "cell_type": "code",
   "execution_count": 2,
   "id": "74b1b3fb",
   "metadata": {},
   "outputs": [
    {
     "name": "stdout",
     "output_type": "stream",
     "text": [
      "The car is Tesla !  and model is Model S\n",
      "electric charge\n",
      "petrol or diesel\n"
     ]
    }
   ],
   "source": [
    "class Car:\n",
    "    def __init__(self, brand, model):\n",
    "        self.__brand = brand\n",
    "        self.model = model\n",
    "\n",
    "    def get_brand(self):\n",
    "        return self.__brand + \" ! \"\n",
    "    \n",
    "    def full_name(self):\n",
    "        return f\"The car is {self.get_brand()} and model is {self.model}\"  \n",
    "    \n",
    "    def fuel_type(self):\n",
    "        return \"petrol or diesel\"\n",
    "\n",
    "class ElectricCar(Car):\n",
    "    def __init__(self, brand, model, battery_size):\n",
    "        self.battery_size = battery_size\n",
    "        super().__init__(brand, model)  \n",
    "    \n",
    "    def fuel_type(self):\n",
    "        return \"electric charge\"\n",
    "\n",
    "my_car = ElectricCar(\"Tesla\", \"Model S\", \"6542\")\n",
    "print(my_car.full_name())\n",
    "print(my_car.fuel_type())\n",
    "\n",
    "Car = Car(\"hugfahs\",\"ojfhwesf\")\n",
    "print(Car.fuel_type())"
   ]
  },
  {
   "cell_type": "markdown",
   "id": "a8579647",
   "metadata": {},
   "source": [
    "class variable"
   ]
  },
  {
   "cell_type": "markdown",
   "id": "f774ff79",
   "metadata": {},
   "source": [
    "IN python we create static method bt @staticmethod\n",
    "@staticmethos are decorators"
   ]
  }
 ],
 "metadata": {
  "kernelspec": {
   "display_name": ".venv",
   "language": "python",
   "name": "python3"
  },
  "language_info": {
   "codemirror_mode": {
    "name": "ipython",
    "version": 3
   },
   "file_extension": ".py",
   "mimetype": "text/x-python",
   "name": "python",
   "nbconvert_exporter": "python",
   "pygments_lexer": "ipython3",
   "version": "3.12.3"
  }
 },
 "nbformat": 4,
 "nbformat_minor": 5
}
