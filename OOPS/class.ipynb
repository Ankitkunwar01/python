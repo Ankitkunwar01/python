{
 "cells": [
  {
   "cell_type": "markdown",
   "id": "0c1df144",
   "metadata": {},
   "source": [
    "ATM Machine code:\n",
    "balance , pin"
   ]
  },
  {
   "cell_type": "code",
   "execution_count": null,
   "id": "14e4bb28",
   "metadata": {},
   "outputs": [
    {
     "name": "stdout",
     "output_type": "stream",
     "text": [
      "Pin is correct\n"
     ]
    }
   ],
   "source": [
    "class AtmMachine:\n",
    "    def __init__(self, pin):\n",
    "        # self.balance = 0  # You can set a default balance here\n",
    "        self.pin = pin\n",
    "\n",
    "    def CheckPin(self):\n",
    "        if self.pin == \"1234\":\n",
    "            print(\"Pin is correct\")\n",
    "        else:\n",
    "            print(\"Pin is wrong\")\n",
    "\n",
    "p1 = AtmMachine(\"1234\")  \n",
    "p1.CheckPin()            \n",
    "               \n",
    "\n",
    "    "
   ]
  }
 ],
 "metadata": {
  "kernelspec": {
   "display_name": ".venv",
   "language": "python",
   "name": "python3"
  },
  "language_info": {
   "codemirror_mode": {
    "name": "ipython",
    "version": 3
   },
   "file_extension": ".py",
   "mimetype": "text/x-python",
   "name": "python",
   "nbconvert_exporter": "python",
   "pygments_lexer": "ipython3",
   "version": "3.12.3"
  }
 },
 "nbformat": 4,
 "nbformat_minor": 5
}
